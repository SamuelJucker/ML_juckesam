{
  "nbformat": 4,
  "nbformat_minor": 0,
  "metadata": {
    "colab": {
      "provenance": [],
      "machine_shape": "hm",
      "gpuType": "A100",
      "authorship_tag": "ABX9TyPo6xKzB1dx6T0DSsZpe5Pg",
      "include_colab_link": true
    },
    "kernelspec": {
      "name": "python3",
      "display_name": "Python 3"
    },
    "language_info": {
      "name": "python"
    },
    "accelerator": "GPU",
    "widgets": {
      "application/vnd.jupyter.widget-state+json": {
        "dae5069ae4764a078ef75d3a3ccff426": {
          "model_module": "@jupyter-widgets/controls",
          "model_name": "HBoxModel",
          "model_module_version": "1.5.0",
          "state": {
            "_dom_classes": [],
            "_model_module": "@jupyter-widgets/controls",
            "_model_module_version": "1.5.0",
            "_model_name": "HBoxModel",
            "_view_count": null,
            "_view_module": "@jupyter-widgets/controls",
            "_view_module_version": "1.5.0",
            "_view_name": "HBoxView",
            "box_style": "",
            "children": [
              "IPY_MODEL_404e5bb80a1f415f970dd3dc9ba95fc0",
              "IPY_MODEL_3e95712cd26f43a7bf2bede8c3a64b87",
              "IPY_MODEL_daa210a982de4dbc94ce092143a6add8"
            ],
            "layout": "IPY_MODEL_c835a36633f543f69ec3cffe0e0ff528"
          }
        },
        "404e5bb80a1f415f970dd3dc9ba95fc0": {
          "model_module": "@jupyter-widgets/controls",
          "model_name": "HTMLModel",
          "model_module_version": "1.5.0",
          "state": {
            "_dom_classes": [],
            "_model_module": "@jupyter-widgets/controls",
            "_model_module_version": "1.5.0",
            "_model_name": "HTMLModel",
            "_view_count": null,
            "_view_module": "@jupyter-widgets/controls",
            "_view_module_version": "1.5.0",
            "_view_name": "HTMLView",
            "description": "",
            "description_tooltip": null,
            "layout": "IPY_MODEL_64a475c170e24f578f70eb0d88f75d05",
            "placeholder": "​",
            "style": "IPY_MODEL_06e4bfc1ba2c4391a248f65c284d36f5",
            "value": "tokenizer_config.json: 100%"
          }
        },
        "3e95712cd26f43a7bf2bede8c3a64b87": {
          "model_module": "@jupyter-widgets/controls",
          "model_name": "FloatProgressModel",
          "model_module_version": "1.5.0",
          "state": {
            "_dom_classes": [],
            "_model_module": "@jupyter-widgets/controls",
            "_model_module_version": "1.5.0",
            "_model_name": "FloatProgressModel",
            "_view_count": null,
            "_view_module": "@jupyter-widgets/controls",
            "_view_module_version": "1.5.0",
            "_view_name": "ProgressView",
            "bar_style": "success",
            "description": "",
            "description_tooltip": null,
            "layout": "IPY_MODEL_f5b9d312883a46e4a7f7851942c0482d",
            "max": 88,
            "min": 0,
            "orientation": "horizontal",
            "style": "IPY_MODEL_a9ae3e4194c14e01b202a8e8e4a29a04",
            "value": 88
          }
        },
        "daa210a982de4dbc94ce092143a6add8": {
          "model_module": "@jupyter-widgets/controls",
          "model_name": "HTMLModel",
          "model_module_version": "1.5.0",
          "state": {
            "_dom_classes": [],
            "_model_module": "@jupyter-widgets/controls",
            "_model_module_version": "1.5.0",
            "_model_name": "HTMLModel",
            "_view_count": null,
            "_view_module": "@jupyter-widgets/controls",
            "_view_module_version": "1.5.0",
            "_view_name": "HTMLView",
            "description": "",
            "description_tooltip": null,
            "layout": "IPY_MODEL_42f96ea7a536447d879fb0a71a1bce3d",
            "placeholder": "​",
            "style": "IPY_MODEL_adab5779c6cd4258b296b86a59f480dc",
            "value": " 88.0/88.0 [00:00&lt;00:00, 7.98kB/s]"
          }
        },
        "c835a36633f543f69ec3cffe0e0ff528": {
          "model_module": "@jupyter-widgets/base",
          "model_name": "LayoutModel",
          "model_module_version": "1.2.0",
          "state": {
            "_model_module": "@jupyter-widgets/base",
            "_model_module_version": "1.2.0",
            "_model_name": "LayoutModel",
            "_view_count": null,
            "_view_module": "@jupyter-widgets/base",
            "_view_module_version": "1.2.0",
            "_view_name": "LayoutView",
            "align_content": null,
            "align_items": null,
            "align_self": null,
            "border": null,
            "bottom": null,
            "display": null,
            "flex": null,
            "flex_flow": null,
            "grid_area": null,
            "grid_auto_columns": null,
            "grid_auto_flow": null,
            "grid_auto_rows": null,
            "grid_column": null,
            "grid_gap": null,
            "grid_row": null,
            "grid_template_areas": null,
            "grid_template_columns": null,
            "grid_template_rows": null,
            "height": null,
            "justify_content": null,
            "justify_items": null,
            "left": null,
            "margin": null,
            "max_height": null,
            "max_width": null,
            "min_height": null,
            "min_width": null,
            "object_fit": null,
            "object_position": null,
            "order": null,
            "overflow": null,
            "overflow_x": null,
            "overflow_y": null,
            "padding": null,
            "right": null,
            "top": null,
            "visibility": null,
            "width": null
          }
        },
        "64a475c170e24f578f70eb0d88f75d05": {
          "model_module": "@jupyter-widgets/base",
          "model_name": "LayoutModel",
          "model_module_version": "1.2.0",
          "state": {
            "_model_module": "@jupyter-widgets/base",
            "_model_module_version": "1.2.0",
            "_model_name": "LayoutModel",
            "_view_count": null,
            "_view_module": "@jupyter-widgets/base",
            "_view_module_version": "1.2.0",
            "_view_name": "LayoutView",
            "align_content": null,
            "align_items": null,
            "align_self": null,
            "border": null,
            "bottom": null,
            "display": null,
            "flex": null,
            "flex_flow": null,
            "grid_area": null,
            "grid_auto_columns": null,
            "grid_auto_flow": null,
            "grid_auto_rows": null,
            "grid_column": null,
            "grid_gap": null,
            "grid_row": null,
            "grid_template_areas": null,
            "grid_template_columns": null,
            "grid_template_rows": null,
            "height": null,
            "justify_content": null,
            "justify_items": null,
            "left": null,
            "margin": null,
            "max_height": null,
            "max_width": null,
            "min_height": null,
            "min_width": null,
            "object_fit": null,
            "object_position": null,
            "order": null,
            "overflow": null,
            "overflow_x": null,
            "overflow_y": null,
            "padding": null,
            "right": null,
            "top": null,
            "visibility": null,
            "width": null
          }
        },
        "06e4bfc1ba2c4391a248f65c284d36f5": {
          "model_module": "@jupyter-widgets/controls",
          "model_name": "DescriptionStyleModel",
          "model_module_version": "1.5.0",
          "state": {
            "_model_module": "@jupyter-widgets/controls",
            "_model_module_version": "1.5.0",
            "_model_name": "DescriptionStyleModel",
            "_view_count": null,
            "_view_module": "@jupyter-widgets/base",
            "_view_module_version": "1.2.0",
            "_view_name": "StyleView",
            "description_width": ""
          }
        },
        "f5b9d312883a46e4a7f7851942c0482d": {
          "model_module": "@jupyter-widgets/base",
          "model_name": "LayoutModel",
          "model_module_version": "1.2.0",
          "state": {
            "_model_module": "@jupyter-widgets/base",
            "_model_module_version": "1.2.0",
            "_model_name": "LayoutModel",
            "_view_count": null,
            "_view_module": "@jupyter-widgets/base",
            "_view_module_version": "1.2.0",
            "_view_name": "LayoutView",
            "align_content": null,
            "align_items": null,
            "align_self": null,
            "border": null,
            "bottom": null,
            "display": null,
            "flex": null,
            "flex_flow": null,
            "grid_area": null,
            "grid_auto_columns": null,
            "grid_auto_flow": null,
            "grid_auto_rows": null,
            "grid_column": null,
            "grid_gap": null,
            "grid_row": null,
            "grid_template_areas": null,
            "grid_template_columns": null,
            "grid_template_rows": null,
            "height": null,
            "justify_content": null,
            "justify_items": null,
            "left": null,
            "margin": null,
            "max_height": null,
            "max_width": null,
            "min_height": null,
            "min_width": null,
            "object_fit": null,
            "object_position": null,
            "order": null,
            "overflow": null,
            "overflow_x": null,
            "overflow_y": null,
            "padding": null,
            "right": null,
            "top": null,
            "visibility": null,
            "width": null
          }
        },
        "a9ae3e4194c14e01b202a8e8e4a29a04": {
          "model_module": "@jupyter-widgets/controls",
          "model_name": "ProgressStyleModel",
          "model_module_version": "1.5.0",
          "state": {
            "_model_module": "@jupyter-widgets/controls",
            "_model_module_version": "1.5.0",
            "_model_name": "ProgressStyleModel",
            "_view_count": null,
            "_view_module": "@jupyter-widgets/base",
            "_view_module_version": "1.2.0",
            "_view_name": "StyleView",
            "bar_color": null,
            "description_width": ""
          }
        },
        "42f96ea7a536447d879fb0a71a1bce3d": {
          "model_module": "@jupyter-widgets/base",
          "model_name": "LayoutModel",
          "model_module_version": "1.2.0",
          "state": {
            "_model_module": "@jupyter-widgets/base",
            "_model_module_version": "1.2.0",
            "_model_name": "LayoutModel",
            "_view_count": null,
            "_view_module": "@jupyter-widgets/base",
            "_view_module_version": "1.2.0",
            "_view_name": "LayoutView",
            "align_content": null,
            "align_items": null,
            "align_self": null,
            "border": null,
            "bottom": null,
            "display": null,
            "flex": null,
            "flex_flow": null,
            "grid_area": null,
            "grid_auto_columns": null,
            "grid_auto_flow": null,
            "grid_auto_rows": null,
            "grid_column": null,
            "grid_gap": null,
            "grid_row": null,
            "grid_template_areas": null,
            "grid_template_columns": null,
            "grid_template_rows": null,
            "height": null,
            "justify_content": null,
            "justify_items": null,
            "left": null,
            "margin": null,
            "max_height": null,
            "max_width": null,
            "min_height": null,
            "min_width": null,
            "object_fit": null,
            "object_position": null,
            "order": null,
            "overflow": null,
            "overflow_x": null,
            "overflow_y": null,
            "padding": null,
            "right": null,
            "top": null,
            "visibility": null,
            "width": null
          }
        },
        "adab5779c6cd4258b296b86a59f480dc": {
          "model_module": "@jupyter-widgets/controls",
          "model_name": "DescriptionStyleModel",
          "model_module_version": "1.5.0",
          "state": {
            "_model_module": "@jupyter-widgets/controls",
            "_model_module_version": "1.5.0",
            "_model_name": "DescriptionStyleModel",
            "_view_count": null,
            "_view_module": "@jupyter-widgets/base",
            "_view_module_version": "1.2.0",
            "_view_name": "StyleView",
            "description_width": ""
          }
        },
        "27a3eeda0e8a4956a3a5a22724108240": {
          "model_module": "@jupyter-widgets/controls",
          "model_name": "HBoxModel",
          "model_module_version": "1.5.0",
          "state": {
            "_dom_classes": [],
            "_model_module": "@jupyter-widgets/controls",
            "_model_module_version": "1.5.0",
            "_model_name": "HBoxModel",
            "_view_count": null,
            "_view_module": "@jupyter-widgets/controls",
            "_view_module_version": "1.5.0",
            "_view_name": "HBoxView",
            "box_style": "",
            "children": [
              "IPY_MODEL_5514a44fe5ef40219a9ae97f9a8891f1",
              "IPY_MODEL_bd64b26c6af54a0199e0399ebf9562c1",
              "IPY_MODEL_2118bebf4bf245d6813adbacd8c237a4"
            ],
            "layout": "IPY_MODEL_864337fffb194cc9ab5926ff87e014db"
          }
        },
        "5514a44fe5ef40219a9ae97f9a8891f1": {
          "model_module": "@jupyter-widgets/controls",
          "model_name": "HTMLModel",
          "model_module_version": "1.5.0",
          "state": {
            "_dom_classes": [],
            "_model_module": "@jupyter-widgets/controls",
            "_model_module_version": "1.5.0",
            "_model_name": "HTMLModel",
            "_view_count": null,
            "_view_module": "@jupyter-widgets/controls",
            "_view_module_version": "1.5.0",
            "_view_name": "HTMLView",
            "description": "",
            "description_tooltip": null,
            "layout": "IPY_MODEL_842564b31b9e408993ea16a09bd02a50",
            "placeholder": "​",
            "style": "IPY_MODEL_0454f3e9b1804809bdc7970f10f11a08",
            "value": "config.json: 100%"
          }
        },
        "bd64b26c6af54a0199e0399ebf9562c1": {
          "model_module": "@jupyter-widgets/controls",
          "model_name": "FloatProgressModel",
          "model_module_version": "1.5.0",
          "state": {
            "_dom_classes": [],
            "_model_module": "@jupyter-widgets/controls",
            "_model_module_version": "1.5.0",
            "_model_name": "FloatProgressModel",
            "_view_count": null,
            "_view_module": "@jupyter-widgets/controls",
            "_view_module_version": "1.5.0",
            "_view_name": "ProgressView",
            "bar_style": "success",
            "description": "",
            "description_tooltip": null,
            "layout": "IPY_MODEL_5c6350efbe994bd3a6a93edc5b7fc2b1",
            "max": 3094,
            "min": 0,
            "orientation": "horizontal",
            "style": "IPY_MODEL_bb5df12448dc4c86b5715fd85ed99c9a",
            "value": 3094
          }
        },
        "2118bebf4bf245d6813adbacd8c237a4": {
          "model_module": "@jupyter-widgets/controls",
          "model_name": "HTMLModel",
          "model_module_version": "1.5.0",
          "state": {
            "_dom_classes": [],
            "_model_module": "@jupyter-widgets/controls",
            "_model_module_version": "1.5.0",
            "_model_name": "HTMLModel",
            "_view_count": null,
            "_view_module": "@jupyter-widgets/controls",
            "_view_module_version": "1.5.0",
            "_view_name": "HTMLView",
            "description": "",
            "description_tooltip": null,
            "layout": "IPY_MODEL_c2c86fab41e343e9876766f0f15d49ab",
            "placeholder": "​",
            "style": "IPY_MODEL_e7007172b1bf483fbc5030614472e946",
            "value": " 3.09k/3.09k [00:00&lt;00:00, 287kB/s]"
          }
        },
        "864337fffb194cc9ab5926ff87e014db": {
          "model_module": "@jupyter-widgets/base",
          "model_name": "LayoutModel",
          "model_module_version": "1.2.0",
          "state": {
            "_model_module": "@jupyter-widgets/base",
            "_model_module_version": "1.2.0",
            "_model_name": "LayoutModel",
            "_view_count": null,
            "_view_module": "@jupyter-widgets/base",
            "_view_module_version": "1.2.0",
            "_view_name": "LayoutView",
            "align_content": null,
            "align_items": null,
            "align_self": null,
            "border": null,
            "bottom": null,
            "display": null,
            "flex": null,
            "flex_flow": null,
            "grid_area": null,
            "grid_auto_columns": null,
            "grid_auto_flow": null,
            "grid_auto_rows": null,
            "grid_column": null,
            "grid_gap": null,
            "grid_row": null,
            "grid_template_areas": null,
            "grid_template_columns": null,
            "grid_template_rows": null,
            "height": null,
            "justify_content": null,
            "justify_items": null,
            "left": null,
            "margin": null,
            "max_height": null,
            "max_width": null,
            "min_height": null,
            "min_width": null,
            "object_fit": null,
            "object_position": null,
            "order": null,
            "overflow": null,
            "overflow_x": null,
            "overflow_y": null,
            "padding": null,
            "right": null,
            "top": null,
            "visibility": null,
            "width": null
          }
        },
        "842564b31b9e408993ea16a09bd02a50": {
          "model_module": "@jupyter-widgets/base",
          "model_name": "LayoutModel",
          "model_module_version": "1.2.0",
          "state": {
            "_model_module": "@jupyter-widgets/base",
            "_model_module_version": "1.2.0",
            "_model_name": "LayoutModel",
            "_view_count": null,
            "_view_module": "@jupyter-widgets/base",
            "_view_module_version": "1.2.0",
            "_view_name": "LayoutView",
            "align_content": null,
            "align_items": null,
            "align_self": null,
            "border": null,
            "bottom": null,
            "display": null,
            "flex": null,
            "flex_flow": null,
            "grid_area": null,
            "grid_auto_columns": null,
            "grid_auto_flow": null,
            "grid_auto_rows": null,
            "grid_column": null,
            "grid_gap": null,
            "grid_row": null,
            "grid_template_areas": null,
            "grid_template_columns": null,
            "grid_template_rows": null,
            "height": null,
            "justify_content": null,
            "justify_items": null,
            "left": null,
            "margin": null,
            "max_height": null,
            "max_width": null,
            "min_height": null,
            "min_width": null,
            "object_fit": null,
            "object_position": null,
            "order": null,
            "overflow": null,
            "overflow_x": null,
            "overflow_y": null,
            "padding": null,
            "right": null,
            "top": null,
            "visibility": null,
            "width": null
          }
        },
        "0454f3e9b1804809bdc7970f10f11a08": {
          "model_module": "@jupyter-widgets/controls",
          "model_name": "DescriptionStyleModel",
          "model_module_version": "1.5.0",
          "state": {
            "_model_module": "@jupyter-widgets/controls",
            "_model_module_version": "1.5.0",
            "_model_name": "DescriptionStyleModel",
            "_view_count": null,
            "_view_module": "@jupyter-widgets/base",
            "_view_module_version": "1.2.0",
            "_view_name": "StyleView",
            "description_width": ""
          }
        },
        "5c6350efbe994bd3a6a93edc5b7fc2b1": {
          "model_module": "@jupyter-widgets/base",
          "model_name": "LayoutModel",
          "model_module_version": "1.2.0",
          "state": {
            "_model_module": "@jupyter-widgets/base",
            "_model_module_version": "1.2.0",
            "_model_name": "LayoutModel",
            "_view_count": null,
            "_view_module": "@jupyter-widgets/base",
            "_view_module_version": "1.2.0",
            "_view_name": "LayoutView",
            "align_content": null,
            "align_items": null,
            "align_self": null,
            "border": null,
            "bottom": null,
            "display": null,
            "flex": null,
            "flex_flow": null,
            "grid_area": null,
            "grid_auto_columns": null,
            "grid_auto_flow": null,
            "grid_auto_rows": null,
            "grid_column": null,
            "grid_gap": null,
            "grid_row": null,
            "grid_template_areas": null,
            "grid_template_columns": null,
            "grid_template_rows": null,
            "height": null,
            "justify_content": null,
            "justify_items": null,
            "left": null,
            "margin": null,
            "max_height": null,
            "max_width": null,
            "min_height": null,
            "min_width": null,
            "object_fit": null,
            "object_position": null,
            "order": null,
            "overflow": null,
            "overflow_x": null,
            "overflow_y": null,
            "padding": null,
            "right": null,
            "top": null,
            "visibility": null,
            "width": null
          }
        },
        "bb5df12448dc4c86b5715fd85ed99c9a": {
          "model_module": "@jupyter-widgets/controls",
          "model_name": "ProgressStyleModel",
          "model_module_version": "1.5.0",
          "state": {
            "_model_module": "@jupyter-widgets/controls",
            "_model_module_version": "1.5.0",
            "_model_name": "ProgressStyleModel",
            "_view_count": null,
            "_view_module": "@jupyter-widgets/base",
            "_view_module_version": "1.2.0",
            "_view_name": "StyleView",
            "bar_color": null,
            "description_width": ""
          }
        },
        "c2c86fab41e343e9876766f0f15d49ab": {
          "model_module": "@jupyter-widgets/base",
          "model_name": "LayoutModel",
          "model_module_version": "1.2.0",
          "state": {
            "_model_module": "@jupyter-widgets/base",
            "_model_module_version": "1.2.0",
            "_model_name": "LayoutModel",
            "_view_count": null,
            "_view_module": "@jupyter-widgets/base",
            "_view_module_version": "1.2.0",
            "_view_name": "LayoutView",
            "align_content": null,
            "align_items": null,
            "align_self": null,
            "border": null,
            "bottom": null,
            "display": null,
            "flex": null,
            "flex_flow": null,
            "grid_area": null,
            "grid_auto_columns": null,
            "grid_auto_flow": null,
            "grid_auto_rows": null,
            "grid_column": null,
            "grid_gap": null,
            "grid_row": null,
            "grid_template_areas": null,
            "grid_template_columns": null,
            "grid_template_rows": null,
            "height": null,
            "justify_content": null,
            "justify_items": null,
            "left": null,
            "margin": null,
            "max_height": null,
            "max_width": null,
            "min_height": null,
            "min_width": null,
            "object_fit": null,
            "object_position": null,
            "order": null,
            "overflow": null,
            "overflow_x": null,
            "overflow_y": null,
            "padding": null,
            "right": null,
            "top": null,
            "visibility": null,
            "width": null
          }
        },
        "e7007172b1bf483fbc5030614472e946": {
          "model_module": "@jupyter-widgets/controls",
          "model_name": "DescriptionStyleModel",
          "model_module_version": "1.5.0",
          "state": {
            "_model_module": "@jupyter-widgets/controls",
            "_model_module_version": "1.5.0",
            "_model_name": "DescriptionStyleModel",
            "_view_count": null,
            "_view_module": "@jupyter-widgets/base",
            "_view_module_version": "1.2.0",
            "_view_name": "StyleView",
            "description_width": ""
          }
        },
        "d40b57a12e544f129697d8c8bd9bb860": {
          "model_module": "@jupyter-widgets/controls",
          "model_name": "HBoxModel",
          "model_module_version": "1.5.0",
          "state": {
            "_dom_classes": [],
            "_model_module": "@jupyter-widgets/controls",
            "_model_module_version": "1.5.0",
            "_model_name": "HBoxModel",
            "_view_count": null,
            "_view_module": "@jupyter-widgets/controls",
            "_view_module_version": "1.5.0",
            "_view_name": "HBoxView",
            "box_style": "",
            "children": [
              "IPY_MODEL_9d2c880ab45e4b5596db1a168fa481dd",
              "IPY_MODEL_b17da5405cd1452d9fea4780ed0216d4",
              "IPY_MODEL_ead3c1445ebf4dc8bd315b5851e0a4ed"
            ],
            "layout": "IPY_MODEL_18335e5d24c340c5892f3b5f1969d767"
          }
        },
        "9d2c880ab45e4b5596db1a168fa481dd": {
          "model_module": "@jupyter-widgets/controls",
          "model_name": "HTMLModel",
          "model_module_version": "1.5.0",
          "state": {
            "_dom_classes": [],
            "_model_module": "@jupyter-widgets/controls",
            "_model_module_version": "1.5.0",
            "_model_name": "HTMLModel",
            "_view_count": null,
            "_view_module": "@jupyter-widgets/controls",
            "_view_module_version": "1.5.0",
            "_view_name": "HTMLView",
            "description": "",
            "description_tooltip": null,
            "layout": "IPY_MODEL_6bbbb54878ab4160a1c607514d14896b",
            "placeholder": "​",
            "style": "IPY_MODEL_24a2d5f2f1ad4e7b94432e67073ed33b",
            "value": "spiece.model: 100%"
          }
        },
        "b17da5405cd1452d9fea4780ed0216d4": {
          "model_module": "@jupyter-widgets/controls",
          "model_name": "FloatProgressModel",
          "model_module_version": "1.5.0",
          "state": {
            "_dom_classes": [],
            "_model_module": "@jupyter-widgets/controls",
            "_model_module_version": "1.5.0",
            "_model_name": "FloatProgressModel",
            "_view_count": null,
            "_view_module": "@jupyter-widgets/controls",
            "_view_module_version": "1.5.0",
            "_view_name": "ProgressView",
            "bar_style": "success",
            "description": "",
            "description_tooltip": null,
            "layout": "IPY_MODEL_f4f6826e0ad94c27aa02302b734fef0c",
            "max": 1912529,
            "min": 0,
            "orientation": "horizontal",
            "style": "IPY_MODEL_75836c12bd80405aa588f8a970914baa",
            "value": 1912529
          }
        },
        "ead3c1445ebf4dc8bd315b5851e0a4ed": {
          "model_module": "@jupyter-widgets/controls",
          "model_name": "HTMLModel",
          "model_module_version": "1.5.0",
          "state": {
            "_dom_classes": [],
            "_model_module": "@jupyter-widgets/controls",
            "_model_module_version": "1.5.0",
            "_model_name": "HTMLModel",
            "_view_count": null,
            "_view_module": "@jupyter-widgets/controls",
            "_view_module_version": "1.5.0",
            "_view_name": "HTMLView",
            "description": "",
            "description_tooltip": null,
            "layout": "IPY_MODEL_3ecbdf594f3e465fb91460e3eceec4ef",
            "placeholder": "​",
            "style": "IPY_MODEL_6ebe849e612f4a5e9ab02b6484c67615",
            "value": " 1.91M/1.91M [00:00&lt;00:00, 4.07MB/s]"
          }
        },
        "18335e5d24c340c5892f3b5f1969d767": {
          "model_module": "@jupyter-widgets/base",
          "model_name": "LayoutModel",
          "model_module_version": "1.2.0",
          "state": {
            "_model_module": "@jupyter-widgets/base",
            "_model_module_version": "1.2.0",
            "_model_name": "LayoutModel",
            "_view_count": null,
            "_view_module": "@jupyter-widgets/base",
            "_view_module_version": "1.2.0",
            "_view_name": "LayoutView",
            "align_content": null,
            "align_items": null,
            "align_self": null,
            "border": null,
            "bottom": null,
            "display": null,
            "flex": null,
            "flex_flow": null,
            "grid_area": null,
            "grid_auto_columns": null,
            "grid_auto_flow": null,
            "grid_auto_rows": null,
            "grid_column": null,
            "grid_gap": null,
            "grid_row": null,
            "grid_template_areas": null,
            "grid_template_columns": null,
            "grid_template_rows": null,
            "height": null,
            "justify_content": null,
            "justify_items": null,
            "left": null,
            "margin": null,
            "max_height": null,
            "max_width": null,
            "min_height": null,
            "min_width": null,
            "object_fit": null,
            "object_position": null,
            "order": null,
            "overflow": null,
            "overflow_x": null,
            "overflow_y": null,
            "padding": null,
            "right": null,
            "top": null,
            "visibility": null,
            "width": null
          }
        },
        "6bbbb54878ab4160a1c607514d14896b": {
          "model_module": "@jupyter-widgets/base",
          "model_name": "LayoutModel",
          "model_module_version": "1.2.0",
          "state": {
            "_model_module": "@jupyter-widgets/base",
            "_model_module_version": "1.2.0",
            "_model_name": "LayoutModel",
            "_view_count": null,
            "_view_module": "@jupyter-widgets/base",
            "_view_module_version": "1.2.0",
            "_view_name": "LayoutView",
            "align_content": null,
            "align_items": null,
            "align_self": null,
            "border": null,
            "bottom": null,
            "display": null,
            "flex": null,
            "flex_flow": null,
            "grid_area": null,
            "grid_auto_columns": null,
            "grid_auto_flow": null,
            "grid_auto_rows": null,
            "grid_column": null,
            "grid_gap": null,
            "grid_row": null,
            "grid_template_areas": null,
            "grid_template_columns": null,
            "grid_template_rows": null,
            "height": null,
            "justify_content": null,
            "justify_items": null,
            "left": null,
            "margin": null,
            "max_height": null,
            "max_width": null,
            "min_height": null,
            "min_width": null,
            "object_fit": null,
            "object_position": null,
            "order": null,
            "overflow": null,
            "overflow_x": null,
            "overflow_y": null,
            "padding": null,
            "right": null,
            "top": null,
            "visibility": null,
            "width": null
          }
        },
        "24a2d5f2f1ad4e7b94432e67073ed33b": {
          "model_module": "@jupyter-widgets/controls",
          "model_name": "DescriptionStyleModel",
          "model_module_version": "1.5.0",
          "state": {
            "_model_module": "@jupyter-widgets/controls",
            "_model_module_version": "1.5.0",
            "_model_name": "DescriptionStyleModel",
            "_view_count": null,
            "_view_module": "@jupyter-widgets/base",
            "_view_module_version": "1.2.0",
            "_view_name": "StyleView",
            "description_width": ""
          }
        },
        "f4f6826e0ad94c27aa02302b734fef0c": {
          "model_module": "@jupyter-widgets/base",
          "model_name": "LayoutModel",
          "model_module_version": "1.2.0",
          "state": {
            "_model_module": "@jupyter-widgets/base",
            "_model_module_version": "1.2.0",
            "_model_name": "LayoutModel",
            "_view_count": null,
            "_view_module": "@jupyter-widgets/base",
            "_view_module_version": "1.2.0",
            "_view_name": "LayoutView",
            "align_content": null,
            "align_items": null,
            "align_self": null,
            "border": null,
            "bottom": null,
            "display": null,
            "flex": null,
            "flex_flow": null,
            "grid_area": null,
            "grid_auto_columns": null,
            "grid_auto_flow": null,
            "grid_auto_rows": null,
            "grid_column": null,
            "grid_gap": null,
            "grid_row": null,
            "grid_template_areas": null,
            "grid_template_columns": null,
            "grid_template_rows": null,
            "height": null,
            "justify_content": null,
            "justify_items": null,
            "left": null,
            "margin": null,
            "max_height": null,
            "max_width": null,
            "min_height": null,
            "min_width": null,
            "object_fit": null,
            "object_position": null,
            "order": null,
            "overflow": null,
            "overflow_x": null,
            "overflow_y": null,
            "padding": null,
            "right": null,
            "top": null,
            "visibility": null,
            "width": null
          }
        },
        "75836c12bd80405aa588f8a970914baa": {
          "model_module": "@jupyter-widgets/controls",
          "model_name": "ProgressStyleModel",
          "model_module_version": "1.5.0",
          "state": {
            "_model_module": "@jupyter-widgets/controls",
            "_model_module_version": "1.5.0",
            "_model_name": "ProgressStyleModel",
            "_view_count": null,
            "_view_module": "@jupyter-widgets/base",
            "_view_module_version": "1.2.0",
            "_view_name": "StyleView",
            "bar_color": null,
            "description_width": ""
          }
        },
        "3ecbdf594f3e465fb91460e3eceec4ef": {
          "model_module": "@jupyter-widgets/base",
          "model_name": "LayoutModel",
          "model_module_version": "1.2.0",
          "state": {
            "_model_module": "@jupyter-widgets/base",
            "_model_module_version": "1.2.0",
            "_model_name": "LayoutModel",
            "_view_count": null,
            "_view_module": "@jupyter-widgets/base",
            "_view_module_version": "1.2.0",
            "_view_name": "LayoutView",
            "align_content": null,
            "align_items": null,
            "align_self": null,
            "border": null,
            "bottom": null,
            "display": null,
            "flex": null,
            "flex_flow": null,
            "grid_area": null,
            "grid_auto_columns": null,
            "grid_auto_flow": null,
            "grid_auto_rows": null,
            "grid_column": null,
            "grid_gap": null,
            "grid_row": null,
            "grid_template_areas": null,
            "grid_template_columns": null,
            "grid_template_rows": null,
            "height": null,
            "justify_content": null,
            "justify_items": null,
            "left": null,
            "margin": null,
            "max_height": null,
            "max_width": null,
            "min_height": null,
            "min_width": null,
            "object_fit": null,
            "object_position": null,
            "order": null,
            "overflow": null,
            "overflow_x": null,
            "overflow_y": null,
            "padding": null,
            "right": null,
            "top": null,
            "visibility": null,
            "width": null
          }
        },
        "6ebe849e612f4a5e9ab02b6484c67615": {
          "model_module": "@jupyter-widgets/controls",
          "model_name": "DescriptionStyleModel",
          "model_module_version": "1.5.0",
          "state": {
            "_model_module": "@jupyter-widgets/controls",
            "_model_module_version": "1.5.0",
            "_model_name": "DescriptionStyleModel",
            "_view_count": null,
            "_view_module": "@jupyter-widgets/base",
            "_view_module_version": "1.2.0",
            "_view_name": "StyleView",
            "description_width": ""
          }
        },
        "e5a77237e6274de381dd8407b51ffa12": {
          "model_module": "@jupyter-widgets/controls",
          "model_name": "HBoxModel",
          "model_module_version": "1.5.0",
          "state": {
            "_dom_classes": [],
            "_model_module": "@jupyter-widgets/controls",
            "_model_module_version": "1.5.0",
            "_model_name": "HBoxModel",
            "_view_count": null,
            "_view_module": "@jupyter-widgets/controls",
            "_view_module_version": "1.5.0",
            "_view_name": "HBoxView",
            "box_style": "",
            "children": [
              "IPY_MODEL_a2dee7dfd797494db29494c13b23b491",
              "IPY_MODEL_83737bbe932e4a95b912b657e5810d71",
              "IPY_MODEL_a08aafb4c9cd4981a88d1c6177efb6b7"
            ],
            "layout": "IPY_MODEL_185e90219aa84d94ac5eecc95a05912d"
          }
        },
        "a2dee7dfd797494db29494c13b23b491": {
          "model_module": "@jupyter-widgets/controls",
          "model_name": "HTMLModel",
          "model_module_version": "1.5.0",
          "state": {
            "_dom_classes": [],
            "_model_module": "@jupyter-widgets/controls",
            "_model_module_version": "1.5.0",
            "_model_name": "HTMLModel",
            "_view_count": null,
            "_view_module": "@jupyter-widgets/controls",
            "_view_module_version": "1.5.0",
            "_view_name": "HTMLView",
            "description": "",
            "description_tooltip": null,
            "layout": "IPY_MODEL_2e7941b4842f47abaeef04ad850aefef",
            "placeholder": "​",
            "style": "IPY_MODEL_8e9ac2286fd04dce9832a77ec122443c",
            "value": "special_tokens_map.json: 100%"
          }
        },
        "83737bbe932e4a95b912b657e5810d71": {
          "model_module": "@jupyter-widgets/controls",
          "model_name": "FloatProgressModel",
          "model_module_version": "1.5.0",
          "state": {
            "_dom_classes": [],
            "_model_module": "@jupyter-widgets/controls",
            "_model_module_version": "1.5.0",
            "_model_name": "FloatProgressModel",
            "_view_count": null,
            "_view_module": "@jupyter-widgets/controls",
            "_view_module_version": "1.5.0",
            "_view_name": "ProgressView",
            "bar_style": "success",
            "description": "",
            "description_tooltip": null,
            "layout": "IPY_MODEL_1a86906350114c8d86286e6579924276",
            "max": 65,
            "min": 0,
            "orientation": "horizontal",
            "style": "IPY_MODEL_1b3f2eb810bb4a99994ff3dca508f00f",
            "value": 65
          }
        },
        "a08aafb4c9cd4981a88d1c6177efb6b7": {
          "model_module": "@jupyter-widgets/controls",
          "model_name": "HTMLModel",
          "model_module_version": "1.5.0",
          "state": {
            "_dom_classes": [],
            "_model_module": "@jupyter-widgets/controls",
            "_model_module_version": "1.5.0",
            "_model_name": "HTMLModel",
            "_view_count": null,
            "_view_module": "@jupyter-widgets/controls",
            "_view_module_version": "1.5.0",
            "_view_name": "HTMLView",
            "description": "",
            "description_tooltip": null,
            "layout": "IPY_MODEL_55d196c9e16444b3a3ebb624a106801f",
            "placeholder": "​",
            "style": "IPY_MODEL_e43938301d6d42eb80600e8aefa760c3",
            "value": " 65.0/65.0 [00:00&lt;00:00, 5.73kB/s]"
          }
        },
        "185e90219aa84d94ac5eecc95a05912d": {
          "model_module": "@jupyter-widgets/base",
          "model_name": "LayoutModel",
          "model_module_version": "1.2.0",
          "state": {
            "_model_module": "@jupyter-widgets/base",
            "_model_module_version": "1.2.0",
            "_model_name": "LayoutModel",
            "_view_count": null,
            "_view_module": "@jupyter-widgets/base",
            "_view_module_version": "1.2.0",
            "_view_name": "LayoutView",
            "align_content": null,
            "align_items": null,
            "align_self": null,
            "border": null,
            "bottom": null,
            "display": null,
            "flex": null,
            "flex_flow": null,
            "grid_area": null,
            "grid_auto_columns": null,
            "grid_auto_flow": null,
            "grid_auto_rows": null,
            "grid_column": null,
            "grid_gap": null,
            "grid_row": null,
            "grid_template_areas": null,
            "grid_template_columns": null,
            "grid_template_rows": null,
            "height": null,
            "justify_content": null,
            "justify_items": null,
            "left": null,
            "margin": null,
            "max_height": null,
            "max_width": null,
            "min_height": null,
            "min_width": null,
            "object_fit": null,
            "object_position": null,
            "order": null,
            "overflow": null,
            "overflow_x": null,
            "overflow_y": null,
            "padding": null,
            "right": null,
            "top": null,
            "visibility": null,
            "width": null
          }
        },
        "2e7941b4842f47abaeef04ad850aefef": {
          "model_module": "@jupyter-widgets/base",
          "model_name": "LayoutModel",
          "model_module_version": "1.2.0",
          "state": {
            "_model_module": "@jupyter-widgets/base",
            "_model_module_version": "1.2.0",
            "_model_name": "LayoutModel",
            "_view_count": null,
            "_view_module": "@jupyter-widgets/base",
            "_view_module_version": "1.2.0",
            "_view_name": "LayoutView",
            "align_content": null,
            "align_items": null,
            "align_self": null,
            "border": null,
            "bottom": null,
            "display": null,
            "flex": null,
            "flex_flow": null,
            "grid_area": null,
            "grid_auto_columns": null,
            "grid_auto_flow": null,
            "grid_auto_rows": null,
            "grid_column": null,
            "grid_gap": null,
            "grid_row": null,
            "grid_template_areas": null,
            "grid_template_columns": null,
            "grid_template_rows": null,
            "height": null,
            "justify_content": null,
            "justify_items": null,
            "left": null,
            "margin": null,
            "max_height": null,
            "max_width": null,
            "min_height": null,
            "min_width": null,
            "object_fit": null,
            "object_position": null,
            "order": null,
            "overflow": null,
            "overflow_x": null,
            "overflow_y": null,
            "padding": null,
            "right": null,
            "top": null,
            "visibility": null,
            "width": null
          }
        },
        "8e9ac2286fd04dce9832a77ec122443c": {
          "model_module": "@jupyter-widgets/controls",
          "model_name": "DescriptionStyleModel",
          "model_module_version": "1.5.0",
          "state": {
            "_model_module": "@jupyter-widgets/controls",
            "_model_module_version": "1.5.0",
            "_model_name": "DescriptionStyleModel",
            "_view_count": null,
            "_view_module": "@jupyter-widgets/base",
            "_view_module_version": "1.2.0",
            "_view_name": "StyleView",
            "description_width": ""
          }
        },
        "1a86906350114c8d86286e6579924276": {
          "model_module": "@jupyter-widgets/base",
          "model_name": "LayoutModel",
          "model_module_version": "1.2.0",
          "state": {
            "_model_module": "@jupyter-widgets/base",
            "_model_module_version": "1.2.0",
            "_model_name": "LayoutModel",
            "_view_count": null,
            "_view_module": "@jupyter-widgets/base",
            "_view_module_version": "1.2.0",
            "_view_name": "LayoutView",
            "align_content": null,
            "align_items": null,
            "align_self": null,
            "border": null,
            "bottom": null,
            "display": null,
            "flex": null,
            "flex_flow": null,
            "grid_area": null,
            "grid_auto_columns": null,
            "grid_auto_flow": null,
            "grid_auto_rows": null,
            "grid_column": null,
            "grid_gap": null,
            "grid_row": null,
            "grid_template_areas": null,
            "grid_template_columns": null,
            "grid_template_rows": null,
            "height": null,
            "justify_content": null,
            "justify_items": null,
            "left": null,
            "margin": null,
            "max_height": null,
            "max_width": null,
            "min_height": null,
            "min_width": null,
            "object_fit": null,
            "object_position": null,
            "order": null,
            "overflow": null,
            "overflow_x": null,
            "overflow_y": null,
            "padding": null,
            "right": null,
            "top": null,
            "visibility": null,
            "width": null
          }
        },
        "1b3f2eb810bb4a99994ff3dca508f00f": {
          "model_module": "@jupyter-widgets/controls",
          "model_name": "ProgressStyleModel",
          "model_module_version": "1.5.0",
          "state": {
            "_model_module": "@jupyter-widgets/controls",
            "_model_module_version": "1.5.0",
            "_model_name": "ProgressStyleModel",
            "_view_count": null,
            "_view_module": "@jupyter-widgets/base",
            "_view_module_version": "1.2.0",
            "_view_name": "StyleView",
            "bar_color": null,
            "description_width": ""
          }
        },
        "55d196c9e16444b3a3ebb624a106801f": {
          "model_module": "@jupyter-widgets/base",
          "model_name": "LayoutModel",
          "model_module_version": "1.2.0",
          "state": {
            "_model_module": "@jupyter-widgets/base",
            "_model_module_version": "1.2.0",
            "_model_name": "LayoutModel",
            "_view_count": null,
            "_view_module": "@jupyter-widgets/base",
            "_view_module_version": "1.2.0",
            "_view_name": "LayoutView",
            "align_content": null,
            "align_items": null,
            "align_self": null,
            "border": null,
            "bottom": null,
            "display": null,
            "flex": null,
            "flex_flow": null,
            "grid_area": null,
            "grid_auto_columns": null,
            "grid_auto_flow": null,
            "grid_auto_rows": null,
            "grid_column": null,
            "grid_gap": null,
            "grid_row": null,
            "grid_template_areas": null,
            "grid_template_columns": null,
            "grid_template_rows": null,
            "height": null,
            "justify_content": null,
            "justify_items": null,
            "left": null,
            "margin": null,
            "max_height": null,
            "max_width": null,
            "min_height": null,
            "min_width": null,
            "object_fit": null,
            "object_position": null,
            "order": null,
            "overflow": null,
            "overflow_x": null,
            "overflow_y": null,
            "padding": null,
            "right": null,
            "top": null,
            "visibility": null,
            "width": null
          }
        },
        "e43938301d6d42eb80600e8aefa760c3": {
          "model_module": "@jupyter-widgets/controls",
          "model_name": "DescriptionStyleModel",
          "model_module_version": "1.5.0",
          "state": {
            "_model_module": "@jupyter-widgets/controls",
            "_model_module_version": "1.5.0",
            "_model_name": "DescriptionStyleModel",
            "_view_count": null,
            "_view_module": "@jupyter-widgets/base",
            "_view_module_version": "1.2.0",
            "_view_name": "StyleView",
            "description_width": ""
          }
        },
        "f6d3f1cc5a794068a1d53c6edf15b6c7": {
          "model_module": "@jupyter-widgets/controls",
          "model_name": "HBoxModel",
          "model_module_version": "1.5.0",
          "state": {
            "_dom_classes": [],
            "_model_module": "@jupyter-widgets/controls",
            "_model_module_version": "1.5.0",
            "_model_name": "HBoxModel",
            "_view_count": null,
            "_view_module": "@jupyter-widgets/controls",
            "_view_module_version": "1.5.0",
            "_view_name": "HBoxView",
            "box_style": "",
            "children": [
              "IPY_MODEL_409af10cb5024201bdb0d374689af193",
              "IPY_MODEL_3c575a517a804e919d5cf54273568c22",
              "IPY_MODEL_070173f04f594d1f832f11a7dee4b365"
            ],
            "layout": "IPY_MODEL_88f732a908614588837db6ad2e309bfd"
          }
        },
        "409af10cb5024201bdb0d374689af193": {
          "model_module": "@jupyter-widgets/controls",
          "model_name": "HTMLModel",
          "model_module_version": "1.5.0",
          "state": {
            "_dom_classes": [],
            "_model_module": "@jupyter-widgets/controls",
            "_model_module_version": "1.5.0",
            "_model_name": "HTMLModel",
            "_view_count": null,
            "_view_module": "@jupyter-widgets/controls",
            "_view_module_version": "1.5.0",
            "_view_name": "HTMLView",
            "description": "",
            "description_tooltip": null,
            "layout": "IPY_MODEL_b1413f05f6314c4186444deece4f28b6",
            "placeholder": "​",
            "style": "IPY_MODEL_ed5493ff3623411cbffb896b410fff0e",
            "value": "pytorch_model.bin: 100%"
          }
        },
        "3c575a517a804e919d5cf54273568c22": {
          "model_module": "@jupyter-widgets/controls",
          "model_name": "FloatProgressModel",
          "model_module_version": "1.5.0",
          "state": {
            "_dom_classes": [],
            "_model_module": "@jupyter-widgets/controls",
            "_model_module_version": "1.5.0",
            "_model_name": "FloatProgressModel",
            "_view_count": null,
            "_view_module": "@jupyter-widgets/controls",
            "_view_module_version": "1.5.0",
            "_view_name": "ProgressView",
            "bar_style": "success",
            "description": "",
            "description_tooltip": null,
            "layout": "IPY_MODEL_4eb6e3e25fa54b8691baf2823caeb826",
            "max": 2275327883,
            "min": 0,
            "orientation": "horizontal",
            "style": "IPY_MODEL_99451beedc474ae496f36d732b415b94",
            "value": 2275327883
          }
        },
        "070173f04f594d1f832f11a7dee4b365": {
          "model_module": "@jupyter-widgets/controls",
          "model_name": "HTMLModel",
          "model_module_version": "1.5.0",
          "state": {
            "_dom_classes": [],
            "_model_module": "@jupyter-widgets/controls",
            "_model_module_version": "1.5.0",
            "_model_name": "HTMLModel",
            "_view_count": null,
            "_view_module": "@jupyter-widgets/controls",
            "_view_module_version": "1.5.0",
            "_view_name": "HTMLView",
            "description": "",
            "description_tooltip": null,
            "layout": "IPY_MODEL_e10429a52e77456289734ccf7a692678",
            "placeholder": "​",
            "style": "IPY_MODEL_f0b1460302a64bdda98c7d9f56eb2c32",
            "value": " 2.28G/2.28G [00:04&lt;00:00, 466MB/s]"
          }
        },
        "88f732a908614588837db6ad2e309bfd": {
          "model_module": "@jupyter-widgets/base",
          "model_name": "LayoutModel",
          "model_module_version": "1.2.0",
          "state": {
            "_model_module": "@jupyter-widgets/base",
            "_model_module_version": "1.2.0",
            "_model_name": "LayoutModel",
            "_view_count": null,
            "_view_module": "@jupyter-widgets/base",
            "_view_module_version": "1.2.0",
            "_view_name": "LayoutView",
            "align_content": null,
            "align_items": null,
            "align_self": null,
            "border": null,
            "bottom": null,
            "display": null,
            "flex": null,
            "flex_flow": null,
            "grid_area": null,
            "grid_auto_columns": null,
            "grid_auto_flow": null,
            "grid_auto_rows": null,
            "grid_column": null,
            "grid_gap": null,
            "grid_row": null,
            "grid_template_areas": null,
            "grid_template_columns": null,
            "grid_template_rows": null,
            "height": null,
            "justify_content": null,
            "justify_items": null,
            "left": null,
            "margin": null,
            "max_height": null,
            "max_width": null,
            "min_height": null,
            "min_width": null,
            "object_fit": null,
            "object_position": null,
            "order": null,
            "overflow": null,
            "overflow_x": null,
            "overflow_y": null,
            "padding": null,
            "right": null,
            "top": null,
            "visibility": null,
            "width": null
          }
        },
        "b1413f05f6314c4186444deece4f28b6": {
          "model_module": "@jupyter-widgets/base",
          "model_name": "LayoutModel",
          "model_module_version": "1.2.0",
          "state": {
            "_model_module": "@jupyter-widgets/base",
            "_model_module_version": "1.2.0",
            "_model_name": "LayoutModel",
            "_view_count": null,
            "_view_module": "@jupyter-widgets/base",
            "_view_module_version": "1.2.0",
            "_view_name": "LayoutView",
            "align_content": null,
            "align_items": null,
            "align_self": null,
            "border": null,
            "bottom": null,
            "display": null,
            "flex": null,
            "flex_flow": null,
            "grid_area": null,
            "grid_auto_columns": null,
            "grid_auto_flow": null,
            "grid_auto_rows": null,
            "grid_column": null,
            "grid_gap": null,
            "grid_row": null,
            "grid_template_areas": null,
            "grid_template_columns": null,
            "grid_template_rows": null,
            "height": null,
            "justify_content": null,
            "justify_items": null,
            "left": null,
            "margin": null,
            "max_height": null,
            "max_width": null,
            "min_height": null,
            "min_width": null,
            "object_fit": null,
            "object_position": null,
            "order": null,
            "overflow": null,
            "overflow_x": null,
            "overflow_y": null,
            "padding": null,
            "right": null,
            "top": null,
            "visibility": null,
            "width": null
          }
        },
        "ed5493ff3623411cbffb896b410fff0e": {
          "model_module": "@jupyter-widgets/controls",
          "model_name": "DescriptionStyleModel",
          "model_module_version": "1.5.0",
          "state": {
            "_model_module": "@jupyter-widgets/controls",
            "_model_module_version": "1.5.0",
            "_model_name": "DescriptionStyleModel",
            "_view_count": null,
            "_view_module": "@jupyter-widgets/base",
            "_view_module_version": "1.2.0",
            "_view_name": "StyleView",
            "description_width": ""
          }
        },
        "4eb6e3e25fa54b8691baf2823caeb826": {
          "model_module": "@jupyter-widgets/base",
          "model_name": "LayoutModel",
          "model_module_version": "1.2.0",
          "state": {
            "_model_module": "@jupyter-widgets/base",
            "_model_module_version": "1.2.0",
            "_model_name": "LayoutModel",
            "_view_count": null,
            "_view_module": "@jupyter-widgets/base",
            "_view_module_version": "1.2.0",
            "_view_name": "LayoutView",
            "align_content": null,
            "align_items": null,
            "align_self": null,
            "border": null,
            "bottom": null,
            "display": null,
            "flex": null,
            "flex_flow": null,
            "grid_area": null,
            "grid_auto_columns": null,
            "grid_auto_flow": null,
            "grid_auto_rows": null,
            "grid_column": null,
            "grid_gap": null,
            "grid_row": null,
            "grid_template_areas": null,
            "grid_template_columns": null,
            "grid_template_rows": null,
            "height": null,
            "justify_content": null,
            "justify_items": null,
            "left": null,
            "margin": null,
            "max_height": null,
            "max_width": null,
            "min_height": null,
            "min_width": null,
            "object_fit": null,
            "object_position": null,
            "order": null,
            "overflow": null,
            "overflow_x": null,
            "overflow_y": null,
            "padding": null,
            "right": null,
            "top": null,
            "visibility": null,
            "width": null
          }
        },
        "99451beedc474ae496f36d732b415b94": {
          "model_module": "@jupyter-widgets/controls",
          "model_name": "ProgressStyleModel",
          "model_module_version": "1.5.0",
          "state": {
            "_model_module": "@jupyter-widgets/controls",
            "_model_module_version": "1.5.0",
            "_model_name": "ProgressStyleModel",
            "_view_count": null,
            "_view_module": "@jupyter-widgets/base",
            "_view_module_version": "1.2.0",
            "_view_name": "StyleView",
            "bar_color": null,
            "description_width": ""
          }
        },
        "e10429a52e77456289734ccf7a692678": {
          "model_module": "@jupyter-widgets/base",
          "model_name": "LayoutModel",
          "model_module_version": "1.2.0",
          "state": {
            "_model_module": "@jupyter-widgets/base",
            "_model_module_version": "1.2.0",
            "_model_name": "LayoutModel",
            "_view_count": null,
            "_view_module": "@jupyter-widgets/base",
            "_view_module_version": "1.2.0",
            "_view_name": "LayoutView",
            "align_content": null,
            "align_items": null,
            "align_self": null,
            "border": null,
            "bottom": null,
            "display": null,
            "flex": null,
            "flex_flow": null,
            "grid_area": null,
            "grid_auto_columns": null,
            "grid_auto_flow": null,
            "grid_auto_rows": null,
            "grid_column": null,
            "grid_gap": null,
            "grid_row": null,
            "grid_template_areas": null,
            "grid_template_columns": null,
            "grid_template_rows": null,
            "height": null,
            "justify_content": null,
            "justify_items": null,
            "left": null,
            "margin": null,
            "max_height": null,
            "max_width": null,
            "min_height": null,
            "min_width": null,
            "object_fit": null,
            "object_position": null,
            "order": null,
            "overflow": null,
            "overflow_x": null,
            "overflow_y": null,
            "padding": null,
            "right": null,
            "top": null,
            "visibility": null,
            "width": null
          }
        },
        "f0b1460302a64bdda98c7d9f56eb2c32": {
          "model_module": "@jupyter-widgets/controls",
          "model_name": "DescriptionStyleModel",
          "model_module_version": "1.5.0",
          "state": {
            "_model_module": "@jupyter-widgets/controls",
            "_model_module_version": "1.5.0",
            "_model_name": "DescriptionStyleModel",
            "_view_count": null,
            "_view_module": "@jupyter-widgets/base",
            "_view_module_version": "1.2.0",
            "_view_name": "StyleView",
            "description_width": ""
          }
        },
        "9b2a8057a68a4513b0b5ad7577ac87aa": {
          "model_module": "@jupyter-widgets/controls",
          "model_name": "HBoxModel",
          "model_module_version": "1.5.0",
          "state": {
            "_dom_classes": [],
            "_model_module": "@jupyter-widgets/controls",
            "_model_module_version": "1.5.0",
            "_model_name": "HBoxModel",
            "_view_count": null,
            "_view_module": "@jupyter-widgets/controls",
            "_view_module_version": "1.5.0",
            "_view_name": "HBoxView",
            "box_style": "",
            "children": [
              "IPY_MODEL_f7172a86e7254fbaa22883f06ab738fe",
              "IPY_MODEL_b74cec9542634489aca507b614440cdf",
              "IPY_MODEL_d289e8ac8ec3430f9d96c07677d3b6f4"
            ],
            "layout": "IPY_MODEL_d44aadb946d049efa3cbd477ecbae8a5"
          }
        },
        "f7172a86e7254fbaa22883f06ab738fe": {
          "model_module": "@jupyter-widgets/controls",
          "model_name": "HTMLModel",
          "model_module_version": "1.5.0",
          "state": {
            "_dom_classes": [],
            "_model_module": "@jupyter-widgets/controls",
            "_model_module_version": "1.5.0",
            "_model_name": "HTMLModel",
            "_view_count": null,
            "_view_module": "@jupyter-widgets/controls",
            "_view_module_version": "1.5.0",
            "_view_name": "HTMLView",
            "description": "",
            "description_tooltip": null,
            "layout": "IPY_MODEL_56b8aa4f223345c3b2ae3d993b4c0b95",
            "placeholder": "​",
            "style": "IPY_MODEL_7b41187d281f403cbe01993647dec7c6",
            "value": "generation_config.json: 100%"
          }
        },
        "b74cec9542634489aca507b614440cdf": {
          "model_module": "@jupyter-widgets/controls",
          "model_name": "FloatProgressModel",
          "model_module_version": "1.5.0",
          "state": {
            "_dom_classes": [],
            "_model_module": "@jupyter-widgets/controls",
            "_model_module_version": "1.5.0",
            "_model_name": "FloatProgressModel",
            "_view_count": null,
            "_view_module": "@jupyter-widgets/controls",
            "_view_module_version": "1.5.0",
            "_view_name": "ProgressView",
            "bar_style": "success",
            "description": "",
            "description_tooltip": null,
            "layout": "IPY_MODEL_b27c33925fe64ce985fe3a052fe89c10",
            "max": 260,
            "min": 0,
            "orientation": "horizontal",
            "style": "IPY_MODEL_a09913988967473eabf5b7d240fc3961",
            "value": 260
          }
        },
        "d289e8ac8ec3430f9d96c07677d3b6f4": {
          "model_module": "@jupyter-widgets/controls",
          "model_name": "HTMLModel",
          "model_module_version": "1.5.0",
          "state": {
            "_dom_classes": [],
            "_model_module": "@jupyter-widgets/controls",
            "_model_module_version": "1.5.0",
            "_model_name": "HTMLModel",
            "_view_count": null,
            "_view_module": "@jupyter-widgets/controls",
            "_view_module_version": "1.5.0",
            "_view_name": "HTMLView",
            "description": "",
            "description_tooltip": null,
            "layout": "IPY_MODEL_b2e5810a55c14b76bc38043ef4fc5d4c",
            "placeholder": "​",
            "style": "IPY_MODEL_8fb1fbe0b105409aa2fbf105e7c1d51e",
            "value": " 260/260 [00:00&lt;00:00, 25.6kB/s]"
          }
        },
        "d44aadb946d049efa3cbd477ecbae8a5": {
          "model_module": "@jupyter-widgets/base",
          "model_name": "LayoutModel",
          "model_module_version": "1.2.0",
          "state": {
            "_model_module": "@jupyter-widgets/base",
            "_model_module_version": "1.2.0",
            "_model_name": "LayoutModel",
            "_view_count": null,
            "_view_module": "@jupyter-widgets/base",
            "_view_module_version": "1.2.0",
            "_view_name": "LayoutView",
            "align_content": null,
            "align_items": null,
            "align_self": null,
            "border": null,
            "bottom": null,
            "display": null,
            "flex": null,
            "flex_flow": null,
            "grid_area": null,
            "grid_auto_columns": null,
            "grid_auto_flow": null,
            "grid_auto_rows": null,
            "grid_column": null,
            "grid_gap": null,
            "grid_row": null,
            "grid_template_areas": null,
            "grid_template_columns": null,
            "grid_template_rows": null,
            "height": null,
            "justify_content": null,
            "justify_items": null,
            "left": null,
            "margin": null,
            "max_height": null,
            "max_width": null,
            "min_height": null,
            "min_width": null,
            "object_fit": null,
            "object_position": null,
            "order": null,
            "overflow": null,
            "overflow_x": null,
            "overflow_y": null,
            "padding": null,
            "right": null,
            "top": null,
            "visibility": null,
            "width": null
          }
        },
        "56b8aa4f223345c3b2ae3d993b4c0b95": {
          "model_module": "@jupyter-widgets/base",
          "model_name": "LayoutModel",
          "model_module_version": "1.2.0",
          "state": {
            "_model_module": "@jupyter-widgets/base",
            "_model_module_version": "1.2.0",
            "_model_name": "LayoutModel",
            "_view_count": null,
            "_view_module": "@jupyter-widgets/base",
            "_view_module_version": "1.2.0",
            "_view_name": "LayoutView",
            "align_content": null,
            "align_items": null,
            "align_self": null,
            "border": null,
            "bottom": null,
            "display": null,
            "flex": null,
            "flex_flow": null,
            "grid_area": null,
            "grid_auto_columns": null,
            "grid_auto_flow": null,
            "grid_auto_rows": null,
            "grid_column": null,
            "grid_gap": null,
            "grid_row": null,
            "grid_template_areas": null,
            "grid_template_columns": null,
            "grid_template_rows": null,
            "height": null,
            "justify_content": null,
            "justify_items": null,
            "left": null,
            "margin": null,
            "max_height": null,
            "max_width": null,
            "min_height": null,
            "min_width": null,
            "object_fit": null,
            "object_position": null,
            "order": null,
            "overflow": null,
            "overflow_x": null,
            "overflow_y": null,
            "padding": null,
            "right": null,
            "top": null,
            "visibility": null,
            "width": null
          }
        },
        "7b41187d281f403cbe01993647dec7c6": {
          "model_module": "@jupyter-widgets/controls",
          "model_name": "DescriptionStyleModel",
          "model_module_version": "1.5.0",
          "state": {
            "_model_module": "@jupyter-widgets/controls",
            "_model_module_version": "1.5.0",
            "_model_name": "DescriptionStyleModel",
            "_view_count": null,
            "_view_module": "@jupyter-widgets/base",
            "_view_module_version": "1.2.0",
            "_view_name": "StyleView",
            "description_width": ""
          }
        },
        "b27c33925fe64ce985fe3a052fe89c10": {
          "model_module": "@jupyter-widgets/base",
          "model_name": "LayoutModel",
          "model_module_version": "1.2.0",
          "state": {
            "_model_module": "@jupyter-widgets/base",
            "_model_module_version": "1.2.0",
            "_model_name": "LayoutModel",
            "_view_count": null,
            "_view_module": "@jupyter-widgets/base",
            "_view_module_version": "1.2.0",
            "_view_name": "LayoutView",
            "align_content": null,
            "align_items": null,
            "align_self": null,
            "border": null,
            "bottom": null,
            "display": null,
            "flex": null,
            "flex_flow": null,
            "grid_area": null,
            "grid_auto_columns": null,
            "grid_auto_flow": null,
            "grid_auto_rows": null,
            "grid_column": null,
            "grid_gap": null,
            "grid_row": null,
            "grid_template_areas": null,
            "grid_template_columns": null,
            "grid_template_rows": null,
            "height": null,
            "justify_content": null,
            "justify_items": null,
            "left": null,
            "margin": null,
            "max_height": null,
            "max_width": null,
            "min_height": null,
            "min_width": null,
            "object_fit": null,
            "object_position": null,
            "order": null,
            "overflow": null,
            "overflow_x": null,
            "overflow_y": null,
            "padding": null,
            "right": null,
            "top": null,
            "visibility": null,
            "width": null
          }
        },
        "a09913988967473eabf5b7d240fc3961": {
          "model_module": "@jupyter-widgets/controls",
          "model_name": "ProgressStyleModel",
          "model_module_version": "1.5.0",
          "state": {
            "_model_module": "@jupyter-widgets/controls",
            "_model_module_version": "1.5.0",
            "_model_name": "ProgressStyleModel",
            "_view_count": null,
            "_view_module": "@jupyter-widgets/base",
            "_view_module_version": "1.2.0",
            "_view_name": "StyleView",
            "bar_color": null,
            "description_width": ""
          }
        },
        "b2e5810a55c14b76bc38043ef4fc5d4c": {
          "model_module": "@jupyter-widgets/base",
          "model_name": "LayoutModel",
          "model_module_version": "1.2.0",
          "state": {
            "_model_module": "@jupyter-widgets/base",
            "_model_module_version": "1.2.0",
            "_model_name": "LayoutModel",
            "_view_count": null,
            "_view_module": "@jupyter-widgets/base",
            "_view_module_version": "1.2.0",
            "_view_name": "LayoutView",
            "align_content": null,
            "align_items": null,
            "align_self": null,
            "border": null,
            "bottom": null,
            "display": null,
            "flex": null,
            "flex_flow": null,
            "grid_area": null,
            "grid_auto_columns": null,
            "grid_auto_flow": null,
            "grid_auto_rows": null,
            "grid_column": null,
            "grid_gap": null,
            "grid_row": null,
            "grid_template_areas": null,
            "grid_template_columns": null,
            "grid_template_rows": null,
            "height": null,
            "justify_content": null,
            "justify_items": null,
            "left": null,
            "margin": null,
            "max_height": null,
            "max_width": null,
            "min_height": null,
            "min_width": null,
            "object_fit": null,
            "object_position": null,
            "order": null,
            "overflow": null,
            "overflow_x": null,
            "overflow_y": null,
            "padding": null,
            "right": null,
            "top": null,
            "visibility": null,
            "width": null
          }
        },
        "8fb1fbe0b105409aa2fbf105e7c1d51e": {
          "model_module": "@jupyter-widgets/controls",
          "model_name": "DescriptionStyleModel",
          "model_module_version": "1.5.0",
          "state": {
            "_model_module": "@jupyter-widgets/controls",
            "_model_module_version": "1.5.0",
            "_model_name": "DescriptionStyleModel",
            "_view_count": null,
            "_view_module": "@jupyter-widgets/base",
            "_view_module_version": "1.2.0",
            "_view_name": "StyleView",
            "description_width": ""
          }
        },
        "5416359437b249d8a5dd585d06bd9020": {
          "model_module": "@jupyter-widgets/controls",
          "model_name": "HBoxModel",
          "model_module_version": "1.5.0",
          "state": {
            "_dom_classes": [],
            "_model_module": "@jupyter-widgets/controls",
            "_model_module_version": "1.5.0",
            "_model_name": "HBoxModel",
            "_view_count": null,
            "_view_module": "@jupyter-widgets/controls",
            "_view_module_version": "1.5.0",
            "_view_name": "HBoxView",
            "box_style": "",
            "children": [
              "IPY_MODEL_e2ca57f4235144c7955a63a445755ae6",
              "IPY_MODEL_d881dd84ebd3408c95eb479ba4e89a1f",
              "IPY_MODEL_b6f932b5f54945aeb870769b6910f01b"
            ],
            "layout": "IPY_MODEL_0bb4e782ff2e4f3d9ecf99a4cae71b56"
          }
        },
        "e2ca57f4235144c7955a63a445755ae6": {
          "model_module": "@jupyter-widgets/controls",
          "model_name": "HTMLModel",
          "model_module_version": "1.5.0",
          "state": {
            "_dom_classes": [],
            "_model_module": "@jupyter-widgets/controls",
            "_model_module_version": "1.5.0",
            "_model_name": "HTMLModel",
            "_view_count": null,
            "_view_module": "@jupyter-widgets/controls",
            "_view_module_version": "1.5.0",
            "_view_name": "HTMLView",
            "description": "",
            "description_tooltip": null,
            "layout": "IPY_MODEL_9bcea838b8334af9b43d4bf3faaef209",
            "placeholder": "​",
            "style": "IPY_MODEL_baa4e01ab2f742ba866686b66d83dff3",
            "value": "Map: 100%"
          }
        },
        "d881dd84ebd3408c95eb479ba4e89a1f": {
          "model_module": "@jupyter-widgets/controls",
          "model_name": "FloatProgressModel",
          "model_module_version": "1.5.0",
          "state": {
            "_dom_classes": [],
            "_model_module": "@jupyter-widgets/controls",
            "_model_module_version": "1.5.0",
            "_model_name": "FloatProgressModel",
            "_view_count": null,
            "_view_module": "@jupyter-widgets/controls",
            "_view_module_version": "1.5.0",
            "_view_name": "ProgressView",
            "bar_style": "success",
            "description": "",
            "description_tooltip": null,
            "layout": "IPY_MODEL_958d9de7a9be457789ac9d954b11a37f",
            "max": 2425,
            "min": 0,
            "orientation": "horizontal",
            "style": "IPY_MODEL_6917b4a3a18643e58be3c3798e48801e",
            "value": 2425
          }
        },
        "b6f932b5f54945aeb870769b6910f01b": {
          "model_module": "@jupyter-widgets/controls",
          "model_name": "HTMLModel",
          "model_module_version": "1.5.0",
          "state": {
            "_dom_classes": [],
            "_model_module": "@jupyter-widgets/controls",
            "_model_module_version": "1.5.0",
            "_model_name": "HTMLModel",
            "_view_count": null,
            "_view_module": "@jupyter-widgets/controls",
            "_view_module_version": "1.5.0",
            "_view_name": "HTMLView",
            "description": "",
            "description_tooltip": null,
            "layout": "IPY_MODEL_c5b0464dd0514e50adc553ed448d1390",
            "placeholder": "​",
            "style": "IPY_MODEL_327c0198a5f342dd99972523d799550f",
            "value": " 2425/2425 [00:05&lt;00:00, 441.57 examples/s]"
          }
        },
        "0bb4e782ff2e4f3d9ecf99a4cae71b56": {
          "model_module": "@jupyter-widgets/base",
          "model_name": "LayoutModel",
          "model_module_version": "1.2.0",
          "state": {
            "_model_module": "@jupyter-widgets/base",
            "_model_module_version": "1.2.0",
            "_model_name": "LayoutModel",
            "_view_count": null,
            "_view_module": "@jupyter-widgets/base",
            "_view_module_version": "1.2.0",
            "_view_name": "LayoutView",
            "align_content": null,
            "align_items": null,
            "align_self": null,
            "border": null,
            "bottom": null,
            "display": null,
            "flex": null,
            "flex_flow": null,
            "grid_area": null,
            "grid_auto_columns": null,
            "grid_auto_flow": null,
            "grid_auto_rows": null,
            "grid_column": null,
            "grid_gap": null,
            "grid_row": null,
            "grid_template_areas": null,
            "grid_template_columns": null,
            "grid_template_rows": null,
            "height": null,
            "justify_content": null,
            "justify_items": null,
            "left": null,
            "margin": null,
            "max_height": null,
            "max_width": null,
            "min_height": null,
            "min_width": null,
            "object_fit": null,
            "object_position": null,
            "order": null,
            "overflow": null,
            "overflow_x": null,
            "overflow_y": null,
            "padding": null,
            "right": null,
            "top": null,
            "visibility": null,
            "width": null
          }
        },
        "9bcea838b8334af9b43d4bf3faaef209": {
          "model_module": "@jupyter-widgets/base",
          "model_name": "LayoutModel",
          "model_module_version": "1.2.0",
          "state": {
            "_model_module": "@jupyter-widgets/base",
            "_model_module_version": "1.2.0",
            "_model_name": "LayoutModel",
            "_view_count": null,
            "_view_module": "@jupyter-widgets/base",
            "_view_module_version": "1.2.0",
            "_view_name": "LayoutView",
            "align_content": null,
            "align_items": null,
            "align_self": null,
            "border": null,
            "bottom": null,
            "display": null,
            "flex": null,
            "flex_flow": null,
            "grid_area": null,
            "grid_auto_columns": null,
            "grid_auto_flow": null,
            "grid_auto_rows": null,
            "grid_column": null,
            "grid_gap": null,
            "grid_row": null,
            "grid_template_areas": null,
            "grid_template_columns": null,
            "grid_template_rows": null,
            "height": null,
            "justify_content": null,
            "justify_items": null,
            "left": null,
            "margin": null,
            "max_height": null,
            "max_width": null,
            "min_height": null,
            "min_width": null,
            "object_fit": null,
            "object_position": null,
            "order": null,
            "overflow": null,
            "overflow_x": null,
            "overflow_y": null,
            "padding": null,
            "right": null,
            "top": null,
            "visibility": null,
            "width": null
          }
        },
        "baa4e01ab2f742ba866686b66d83dff3": {
          "model_module": "@jupyter-widgets/controls",
          "model_name": "DescriptionStyleModel",
          "model_module_version": "1.5.0",
          "state": {
            "_model_module": "@jupyter-widgets/controls",
            "_model_module_version": "1.5.0",
            "_model_name": "DescriptionStyleModel",
            "_view_count": null,
            "_view_module": "@jupyter-widgets/base",
            "_view_module_version": "1.2.0",
            "_view_name": "StyleView",
            "description_width": ""
          }
        },
        "958d9de7a9be457789ac9d954b11a37f": {
          "model_module": "@jupyter-widgets/base",
          "model_name": "LayoutModel",
          "model_module_version": "1.2.0",
          "state": {
            "_model_module": "@jupyter-widgets/base",
            "_model_module_version": "1.2.0",
            "_model_name": "LayoutModel",
            "_view_count": null,
            "_view_module": "@jupyter-widgets/base",
            "_view_module_version": "1.2.0",
            "_view_name": "LayoutView",
            "align_content": null,
            "align_items": null,
            "align_self": null,
            "border": null,
            "bottom": null,
            "display": null,
            "flex": null,
            "flex_flow": null,
            "grid_area": null,
            "grid_auto_columns": null,
            "grid_auto_flow": null,
            "grid_auto_rows": null,
            "grid_column": null,
            "grid_gap": null,
            "grid_row": null,
            "grid_template_areas": null,
            "grid_template_columns": null,
            "grid_template_rows": null,
            "height": null,
            "justify_content": null,
            "justify_items": null,
            "left": null,
            "margin": null,
            "max_height": null,
            "max_width": null,
            "min_height": null,
            "min_width": null,
            "object_fit": null,
            "object_position": null,
            "order": null,
            "overflow": null,
            "overflow_x": null,
            "overflow_y": null,
            "padding": null,
            "right": null,
            "top": null,
            "visibility": null,
            "width": null
          }
        },
        "6917b4a3a18643e58be3c3798e48801e": {
          "model_module": "@jupyter-widgets/controls",
          "model_name": "ProgressStyleModel",
          "model_module_version": "1.5.0",
          "state": {
            "_model_module": "@jupyter-widgets/controls",
            "_model_module_version": "1.5.0",
            "_model_name": "ProgressStyleModel",
            "_view_count": null,
            "_view_module": "@jupyter-widgets/base",
            "_view_module_version": "1.2.0",
            "_view_name": "StyleView",
            "bar_color": null,
            "description_width": ""
          }
        },
        "c5b0464dd0514e50adc553ed448d1390": {
          "model_module": "@jupyter-widgets/base",
          "model_name": "LayoutModel",
          "model_module_version": "1.2.0",
          "state": {
            "_model_module": "@jupyter-widgets/base",
            "_model_module_version": "1.2.0",
            "_model_name": "LayoutModel",
            "_view_count": null,
            "_view_module": "@jupyter-widgets/base",
            "_view_module_version": "1.2.0",
            "_view_name": "LayoutView",
            "align_content": null,
            "align_items": null,
            "align_self": null,
            "border": null,
            "bottom": null,
            "display": null,
            "flex": null,
            "flex_flow": null,
            "grid_area": null,
            "grid_auto_columns": null,
            "grid_auto_flow": null,
            "grid_auto_rows": null,
            "grid_column": null,
            "grid_gap": null,
            "grid_row": null,
            "grid_template_areas": null,
            "grid_template_columns": null,
            "grid_template_rows": null,
            "height": null,
            "justify_content": null,
            "justify_items": null,
            "left": null,
            "margin": null,
            "max_height": null,
            "max_width": null,
            "min_height": null,
            "min_width": null,
            "object_fit": null,
            "object_position": null,
            "order": null,
            "overflow": null,
            "overflow_x": null,
            "overflow_y": null,
            "padding": null,
            "right": null,
            "top": null,
            "visibility": null,
            "width": null
          }
        },
        "327c0198a5f342dd99972523d799550f": {
          "model_module": "@jupyter-widgets/controls",
          "model_name": "DescriptionStyleModel",
          "model_module_version": "1.5.0",
          "state": {
            "_model_module": "@jupyter-widgets/controls",
            "_model_module_version": "1.5.0",
            "_model_name": "DescriptionStyleModel",
            "_view_count": null,
            "_view_module": "@jupyter-widgets/base",
            "_view_module_version": "1.2.0",
            "_view_name": "StyleView",
            "description_width": ""
          }
        }
      }
    }
  },
  "cells": [
    {
      "cell_type": "markdown",
      "metadata": {
        "id": "view-in-github",
        "colab_type": "text"
      },
      "source": [
        "<a href=\"https://colab.research.google.com/github/SamuelJucker/ML_juckesam/blob/master/custom_finnews_summarization.ipynb\" target=\"_parent\"><img src=\"https://colab.research.google.com/assets/colab-badge.svg\" alt=\"Open In Colab\"/></a>"
      ]
    },
    {
      "cell_type": "markdown",
      "source": [
        "**Preparation:**\n",
        "\n",
        "Install the following libraries"
      ],
      "metadata": {
        "id": "tAuZ--lmoo04"
      }
    },
    {
      "cell_type": "code",
      "execution_count": 1,
      "metadata": {
        "colab": {
          "base_uri": "https://localhost:8080/"
        },
        "id": "KCMMfa_CnrRU",
        "outputId": "fa0ed584-7b53-49b3-bfb5-bfeeee4fe298"
      },
      "outputs": [
        {
          "output_type": "stream",
          "name": "stdout",
          "text": [
            "Requirement already satisfied: transformers in /usr/local/lib/python3.10/dist-packages (4.41.2)\n",
            "Collecting datasets\n",
            "  Downloading datasets-2.19.2-py3-none-any.whl (542 kB)\n",
            "\u001b[2K     \u001b[90m━━━━━━━━━━━━━━━━━━━━━━━━━━━━━━━━━━━━━━━━\u001b[0m \u001b[32m542.1/542.1 kB\u001b[0m \u001b[31m12.0 MB/s\u001b[0m eta \u001b[36m0:00:00\u001b[0m\n",
            "\u001b[?25hRequirement already satisfied: filelock in /usr/local/lib/python3.10/dist-packages (from transformers) (3.14.0)\n",
            "Requirement already satisfied: huggingface-hub<1.0,>=0.23.0 in /usr/local/lib/python3.10/dist-packages (from transformers) (0.23.2)\n",
            "Requirement already satisfied: numpy>=1.17 in /usr/local/lib/python3.10/dist-packages (from transformers) (1.25.2)\n",
            "Requirement already satisfied: packaging>=20.0 in /usr/local/lib/python3.10/dist-packages (from transformers) (24.0)\n",
            "Requirement already satisfied: pyyaml>=5.1 in /usr/local/lib/python3.10/dist-packages (from transformers) (6.0.1)\n",
            "Requirement already satisfied: regex!=2019.12.17 in /usr/local/lib/python3.10/dist-packages (from transformers) (2024.5.15)\n",
            "Requirement already satisfied: requests in /usr/local/lib/python3.10/dist-packages (from transformers) (2.31.0)\n",
            "Requirement already satisfied: tokenizers<0.20,>=0.19 in /usr/local/lib/python3.10/dist-packages (from transformers) (0.19.1)\n",
            "Requirement already satisfied: safetensors>=0.4.1 in /usr/local/lib/python3.10/dist-packages (from transformers) (0.4.3)\n",
            "Requirement already satisfied: tqdm>=4.27 in /usr/local/lib/python3.10/dist-packages (from transformers) (4.66.4)\n",
            "Requirement already satisfied: pyarrow>=12.0.0 in /usr/local/lib/python3.10/dist-packages (from datasets) (14.0.2)\n",
            "Requirement already satisfied: pyarrow-hotfix in /usr/local/lib/python3.10/dist-packages (from datasets) (0.6)\n",
            "Collecting dill<0.3.9,>=0.3.0 (from datasets)\n",
            "  Downloading dill-0.3.8-py3-none-any.whl (116 kB)\n",
            "\u001b[2K     \u001b[90m━━━━━━━━━━━━━━━━━━━━━━━━━━━━━━━━━━━━━━━━\u001b[0m \u001b[32m116.3/116.3 kB\u001b[0m \u001b[31m17.5 MB/s\u001b[0m eta \u001b[36m0:00:00\u001b[0m\n",
            "\u001b[?25hRequirement already satisfied: pandas in /usr/local/lib/python3.10/dist-packages (from datasets) (2.0.3)\n",
            "Collecting requests (from transformers)\n",
            "  Downloading requests-2.32.3-py3-none-any.whl (64 kB)\n",
            "\u001b[2K     \u001b[90m━━━━━━━━━━━━━━━━━━━━━━━━━━━━━━━━━━━━━━━━\u001b[0m \u001b[32m64.9/64.9 kB\u001b[0m \u001b[31m10.5 MB/s\u001b[0m eta \u001b[36m0:00:00\u001b[0m\n",
            "\u001b[?25hCollecting xxhash (from datasets)\n",
            "  Downloading xxhash-3.4.1-cp310-cp310-manylinux_2_17_x86_64.manylinux2014_x86_64.whl (194 kB)\n",
            "\u001b[2K     \u001b[90m━━━━━━━━━━━━━━━━━━━━━━━━━━━━━━━━━━━━━━━━\u001b[0m \u001b[32m194.1/194.1 kB\u001b[0m \u001b[31m22.9 MB/s\u001b[0m eta \u001b[36m0:00:00\u001b[0m\n",
            "\u001b[?25hCollecting multiprocess (from datasets)\n",
            "  Downloading multiprocess-0.70.16-py310-none-any.whl (134 kB)\n",
            "\u001b[2K     \u001b[90m━━━━━━━━━━━━━━━━━━━━━━━━━━━━━━━━━━━━━━━━\u001b[0m \u001b[32m134.8/134.8 kB\u001b[0m \u001b[31m18.4 MB/s\u001b[0m eta \u001b[36m0:00:00\u001b[0m\n",
            "\u001b[?25hRequirement already satisfied: fsspec[http]<=2024.3.1,>=2023.1.0 in /usr/local/lib/python3.10/dist-packages (from datasets) (2023.6.0)\n",
            "Requirement already satisfied: aiohttp in /usr/local/lib/python3.10/dist-packages (from datasets) (3.9.5)\n",
            "Requirement already satisfied: aiosignal>=1.1.2 in /usr/local/lib/python3.10/dist-packages (from aiohttp->datasets) (1.3.1)\n",
            "Requirement already satisfied: attrs>=17.3.0 in /usr/local/lib/python3.10/dist-packages (from aiohttp->datasets) (23.2.0)\n",
            "Requirement already satisfied: frozenlist>=1.1.1 in /usr/local/lib/python3.10/dist-packages (from aiohttp->datasets) (1.4.1)\n",
            "Requirement already satisfied: multidict<7.0,>=4.5 in /usr/local/lib/python3.10/dist-packages (from aiohttp->datasets) (6.0.5)\n",
            "Requirement already satisfied: yarl<2.0,>=1.0 in /usr/local/lib/python3.10/dist-packages (from aiohttp->datasets) (1.9.4)\n",
            "Requirement already satisfied: async-timeout<5.0,>=4.0 in /usr/local/lib/python3.10/dist-packages (from aiohttp->datasets) (4.0.3)\n",
            "Requirement already satisfied: typing-extensions>=3.7.4.3 in /usr/local/lib/python3.10/dist-packages (from huggingface-hub<1.0,>=0.23.0->transformers) (4.12.1)\n",
            "Requirement already satisfied: charset-normalizer<4,>=2 in /usr/local/lib/python3.10/dist-packages (from requests->transformers) (3.3.2)\n",
            "Requirement already satisfied: idna<4,>=2.5 in /usr/local/lib/python3.10/dist-packages (from requests->transformers) (3.7)\n",
            "Requirement already satisfied: urllib3<3,>=1.21.1 in /usr/local/lib/python3.10/dist-packages (from requests->transformers) (2.0.7)\n",
            "Requirement already satisfied: certifi>=2017.4.17 in /usr/local/lib/python3.10/dist-packages (from requests->transformers) (2024.6.2)\n",
            "Requirement already satisfied: python-dateutil>=2.8.2 in /usr/local/lib/python3.10/dist-packages (from pandas->datasets) (2.8.2)\n",
            "Requirement already satisfied: pytz>=2020.1 in /usr/local/lib/python3.10/dist-packages (from pandas->datasets) (2023.4)\n",
            "Requirement already satisfied: tzdata>=2022.1 in /usr/local/lib/python3.10/dist-packages (from pandas->datasets) (2024.1)\n",
            "Requirement already satisfied: six>=1.5 in /usr/local/lib/python3.10/dist-packages (from python-dateutil>=2.8.2->pandas->datasets) (1.16.0)\n",
            "Installing collected packages: xxhash, requests, dill, multiprocess, datasets\n",
            "  Attempting uninstall: requests\n",
            "    Found existing installation: requests 2.31.0\n",
            "    Uninstalling requests-2.31.0:\n",
            "      Successfully uninstalled requests-2.31.0\n",
            "\u001b[31mERROR: pip's dependency resolver does not currently take into account all the packages that are installed. This behaviour is the source of the following dependency conflicts.\n",
            "google-colab 1.0.0 requires requests==2.31.0, but you have requests 2.32.3 which is incompatible.\u001b[0m\u001b[31m\n",
            "\u001b[0mSuccessfully installed datasets-2.19.2 dill-0.3.8 multiprocess-0.70.16 requests-2.32.3 xxhash-3.4.1\n",
            "Requirement already satisfied: transformers[torch] in /usr/local/lib/python3.10/dist-packages (4.41.2)\n",
            "Collecting accelerate\n",
            "  Downloading accelerate-0.31.0-py3-none-any.whl (309 kB)\n",
            "\u001b[2K     \u001b[90m━━━━━━━━━━━━━━━━━━━━━━━━━━━━━━━━━━━━━━━━\u001b[0m \u001b[32m309.4/309.4 kB\u001b[0m \u001b[31m7.2 MB/s\u001b[0m eta \u001b[36m0:00:00\u001b[0m\n",
            "\u001b[?25hRequirement already satisfied: filelock in /usr/local/lib/python3.10/dist-packages (from transformers[torch]) (3.14.0)\n",
            "Requirement already satisfied: huggingface-hub<1.0,>=0.23.0 in /usr/local/lib/python3.10/dist-packages (from transformers[torch]) (0.23.2)\n",
            "Requirement already satisfied: numpy>=1.17 in /usr/local/lib/python3.10/dist-packages (from transformers[torch]) (1.25.2)\n",
            "Requirement already satisfied: packaging>=20.0 in /usr/local/lib/python3.10/dist-packages (from transformers[torch]) (24.0)\n",
            "Requirement already satisfied: pyyaml>=5.1 in /usr/local/lib/python3.10/dist-packages (from transformers[torch]) (6.0.1)\n",
            "Requirement already satisfied: regex!=2019.12.17 in /usr/local/lib/python3.10/dist-packages (from transformers[torch]) (2024.5.15)\n",
            "Requirement already satisfied: requests in /usr/local/lib/python3.10/dist-packages (from transformers[torch]) (2.32.3)\n",
            "Requirement already satisfied: tokenizers<0.20,>=0.19 in /usr/local/lib/python3.10/dist-packages (from transformers[torch]) (0.19.1)\n",
            "Requirement already satisfied: safetensors>=0.4.1 in /usr/local/lib/python3.10/dist-packages (from transformers[torch]) (0.4.3)\n",
            "Requirement already satisfied: tqdm>=4.27 in /usr/local/lib/python3.10/dist-packages (from transformers[torch]) (4.66.4)\n",
            "Requirement already satisfied: torch in /usr/local/lib/python3.10/dist-packages (from transformers[torch]) (2.3.0+cu121)\n",
            "Requirement already satisfied: psutil in /usr/local/lib/python3.10/dist-packages (from accelerate) (5.9.5)\n",
            "Requirement already satisfied: fsspec>=2023.5.0 in /usr/local/lib/python3.10/dist-packages (from huggingface-hub<1.0,>=0.23.0->transformers[torch]) (2023.6.0)\n",
            "Requirement already satisfied: typing-extensions>=3.7.4.3 in /usr/local/lib/python3.10/dist-packages (from huggingface-hub<1.0,>=0.23.0->transformers[torch]) (4.12.1)\n",
            "Requirement already satisfied: sympy in /usr/local/lib/python3.10/dist-packages (from torch->transformers[torch]) (1.12.1)\n",
            "Requirement already satisfied: networkx in /usr/local/lib/python3.10/dist-packages (from torch->transformers[torch]) (3.3)\n",
            "Requirement already satisfied: jinja2 in /usr/local/lib/python3.10/dist-packages (from torch->transformers[torch]) (3.1.4)\n",
            "Collecting nvidia-cuda-nvrtc-cu12==12.1.105 (from torch->transformers[torch])\n",
            "  Using cached nvidia_cuda_nvrtc_cu12-12.1.105-py3-none-manylinux1_x86_64.whl (23.7 MB)\n",
            "Collecting nvidia-cuda-runtime-cu12==12.1.105 (from torch->transformers[torch])\n",
            "  Using cached nvidia_cuda_runtime_cu12-12.1.105-py3-none-manylinux1_x86_64.whl (823 kB)\n",
            "Collecting nvidia-cuda-cupti-cu12==12.1.105 (from torch->transformers[torch])\n",
            "  Using cached nvidia_cuda_cupti_cu12-12.1.105-py3-none-manylinux1_x86_64.whl (14.1 MB)\n",
            "Collecting nvidia-cudnn-cu12==8.9.2.26 (from torch->transformers[torch])\n",
            "  Using cached nvidia_cudnn_cu12-8.9.2.26-py3-none-manylinux1_x86_64.whl (731.7 MB)\n",
            "Collecting nvidia-cublas-cu12==12.1.3.1 (from torch->transformers[torch])\n",
            "  Using cached nvidia_cublas_cu12-12.1.3.1-py3-none-manylinux1_x86_64.whl (410.6 MB)\n",
            "Collecting nvidia-cufft-cu12==11.0.2.54 (from torch->transformers[torch])\n",
            "  Using cached nvidia_cufft_cu12-11.0.2.54-py3-none-manylinux1_x86_64.whl (121.6 MB)\n",
            "Collecting nvidia-curand-cu12==10.3.2.106 (from torch->transformers[torch])\n",
            "  Using cached nvidia_curand_cu12-10.3.2.106-py3-none-manylinux1_x86_64.whl (56.5 MB)\n",
            "Collecting nvidia-cusolver-cu12==11.4.5.107 (from torch->transformers[torch])\n",
            "  Using cached nvidia_cusolver_cu12-11.4.5.107-py3-none-manylinux1_x86_64.whl (124.2 MB)\n",
            "Collecting nvidia-cusparse-cu12==12.1.0.106 (from torch->transformers[torch])\n",
            "  Using cached nvidia_cusparse_cu12-12.1.0.106-py3-none-manylinux1_x86_64.whl (196.0 MB)\n",
            "Collecting nvidia-nccl-cu12==2.20.5 (from torch->transformers[torch])\n",
            "  Using cached nvidia_nccl_cu12-2.20.5-py3-none-manylinux2014_x86_64.whl (176.2 MB)\n",
            "Collecting nvidia-nvtx-cu12==12.1.105 (from torch->transformers[torch])\n",
            "  Using cached nvidia_nvtx_cu12-12.1.105-py3-none-manylinux1_x86_64.whl (99 kB)\n",
            "Requirement already satisfied: triton==2.3.0 in /usr/local/lib/python3.10/dist-packages (from torch->transformers[torch]) (2.3.0)\n",
            "Collecting nvidia-nvjitlink-cu12 (from nvidia-cusolver-cu12==11.4.5.107->torch->transformers[torch])\n",
            "  Downloading nvidia_nvjitlink_cu12-12.5.40-py3-none-manylinux2014_x86_64.whl (21.3 MB)\n",
            "\u001b[2K     \u001b[90m━━━━━━━━━━━━━━━━━━━━━━━━━━━━━━━━━━━━━━━━\u001b[0m \u001b[32m21.3/21.3 MB\u001b[0m \u001b[31m73.1 MB/s\u001b[0m eta \u001b[36m0:00:00\u001b[0m\n",
            "\u001b[?25hRequirement already satisfied: charset-normalizer<4,>=2 in /usr/local/lib/python3.10/dist-packages (from requests->transformers[torch]) (3.3.2)\n",
            "Requirement already satisfied: idna<4,>=2.5 in /usr/local/lib/python3.10/dist-packages (from requests->transformers[torch]) (3.7)\n",
            "Requirement already satisfied: urllib3<3,>=1.21.1 in /usr/local/lib/python3.10/dist-packages (from requests->transformers[torch]) (2.0.7)\n",
            "Requirement already satisfied: certifi>=2017.4.17 in /usr/local/lib/python3.10/dist-packages (from requests->transformers[torch]) (2024.6.2)\n",
            "Requirement already satisfied: MarkupSafe>=2.0 in /usr/local/lib/python3.10/dist-packages (from jinja2->torch->transformers[torch]) (2.1.5)\n",
            "Requirement already satisfied: mpmath<1.4.0,>=1.1.0 in /usr/local/lib/python3.10/dist-packages (from sympy->torch->transformers[torch]) (1.3.0)\n",
            "Installing collected packages: nvidia-nvtx-cu12, nvidia-nvjitlink-cu12, nvidia-nccl-cu12, nvidia-curand-cu12, nvidia-cufft-cu12, nvidia-cuda-runtime-cu12, nvidia-cuda-nvrtc-cu12, nvidia-cuda-cupti-cu12, nvidia-cublas-cu12, nvidia-cusparse-cu12, nvidia-cudnn-cu12, nvidia-cusolver-cu12, accelerate\n",
            "Successfully installed accelerate-0.31.0 nvidia-cublas-cu12-12.1.3.1 nvidia-cuda-cupti-cu12-12.1.105 nvidia-cuda-nvrtc-cu12-12.1.105 nvidia-cuda-runtime-cu12-12.1.105 nvidia-cudnn-cu12-8.9.2.26 nvidia-cufft-cu12-11.0.2.54 nvidia-curand-cu12-10.3.2.106 nvidia-cusolver-cu12-11.4.5.107 nvidia-cusparse-cu12-12.1.0.106 nvidia-nccl-cu12-2.20.5 nvidia-nvjitlink-cu12-12.5.40 nvidia-nvtx-cu12-12.1.105\n"
          ]
        }
      ],
      "source": [
        "!pip install transformers datasets\n",
        "!pip install transformers[torch] accelerate -U"
      ]
    },
    {
      "cell_type": "markdown",
      "source": [],
      "metadata": {
        "id": "6MYgieU_o5dp"
      }
    },
    {
      "cell_type": "markdown",
      "source": [
        "Necessary imports // if not acess to drive just comment it out"
      ],
      "metadata": {
        "id": "Bio0yqP4uPky"
      }
    },
    {
      "cell_type": "code",
      "source": [
        "\n",
        "# Import necessary libraries\n",
        "import transformers\n",
        "import accelerate\n",
        "import torch\n",
        "import shutil\n",
        "import os\n",
        "from transformers import Trainer, TrainingArguments, AutoTokenizer, AutoModelForSeq2SeqLM, DataCollatorForSeq2Seq, GenerationConfig\n",
        "from datasets import load_dataset\n",
        "from google.colab import drive\n",
        "\n",
        "import random  # Add this line to import the random module\n",
        "import pandas as pd  # Ensure pandas is imported for DataFrame usage\n",
        "from datasets import Dataset\n",
        "\n",
        "\n"
      ],
      "metadata": {
        "id": "Kuwt10w5o0D3"
      },
      "execution_count": 2,
      "outputs": []
    },
    {
      "cell_type": "markdown",
      "source": [
        "loading / model and tokenizer"
      ],
      "metadata": {
        "id": "h5Z7edHOyPfA"
      }
    },
    {
      "cell_type": "code",
      "source": [
        "# # # Load the model and tokenizer\n",
        "# # model_name = \"google/pegasus-large\"  # Using a more powerful model\n",
        "# # tokenizer = AutoTokenizer.from_pretrained(model_name)\n",
        "# # model = AutoModelForSeq2SeqLM.from_pretrained(model_name)\n",
        "\n",
        "\n",
        "# # Load the model and tokenizer\n",
        "# model_name = \"google/pegasus-large\"  # Using a more powerful model\n",
        "# tokenizer = AutoTokenizer.from_pretrained(model_name)\n",
        "# model = AutoModelForSeq2SeqLM.from_pretrained(model_name)\n",
        "# base_model = model_name.split('/')[1]  # Extract the base model name for later use\n",
        "\n",
        "\n",
        "\n",
        "# # Define the directory to save the model and tokenizer\n",
        "# save_directory = \"./pretrained_pegasus_large\"\n",
        "\n",
        "# # Save the model and tokenizer to the directory\n",
        "# tokenizer.save_pretrained(save_directory)\n",
        "# model.save_pretrained(save_directory)\n",
        "\n",
        "# # Print all files in the save directory\n",
        "# print(\"Files in the save directory:\")\n",
        "# for root, dirs, files in os.walk(save_directory):\n",
        "#     for filename in files:\n",
        "#         print(os.path.join(root, filename))\n",
        "\n",
        "#   # Assuming you have already fine-tuned the model and tokenizer\n",
        "# model.save_pretrained('./results')\n",
        "# tokenizer.save_pretrained('./results')\n",
        "\n",
        "# # Optionally, save the generation configuration if used\n",
        "# gen_config = GenerationConfig(\n",
        "#     max_length=142,\n",
        "#     min_length=56,\n",
        "#     early_stopping=True,\n",
        "#     num_beams=4,\n",
        "#     length_penalty=2.0,\n",
        "#     no_repeat_ngram_size=3,\n",
        "#     forced_bos_token_id=0,\n",
        "#     forced_eos_token_id=2\n",
        "# )\n",
        "# gen_config.save_pretrained('./results')\n",
        "from transformers import AutoTokenizer, AutoModelForSeq2SeqLM, GenerationConfig\n",
        "import shutil\n",
        "import os\n",
        "\n",
        "# Step 1: Mount Google Drive\n",
        "from google.colab import drive\n",
        "drive.mount('/content/drive')\n",
        "\n",
        "# Define the Save Path\n",
        "drive_save_path = '/content/drive/My Drive/fine_tuned_model'\n",
        "\n",
        "# Load the pretrained model and tokenizer\n",
        "model_name = \"google/pegasus-large\"\n",
        "tokenizer = AutoTokenizer.from_pretrained(model_name)\n",
        "model = AutoModelForSeq2SeqLM.from_pretrained(model_name)\n",
        "base_model = model_name.split('/')[1]  # Extract the base model name for later use\n",
        "\n",
        "# Define the directory to save the model and tokenizer\n",
        "save_directory = \"./pretrained_pegasus_large\"\n",
        "\n",
        "# Save the pretrained model and tokenizer to the directory\n",
        "tokenizer.save_pretrained(save_directory)\n",
        "model.save_pretrained(save_directory)\n",
        "\n",
        "# Print all files in the save directory\n",
        "print(\"Files in the save directory:\")\n",
        "for root, dirs, files in os.walk(save_directory):\n",
        "    for filename in files:\n",
        "        print(os.path.join(root, filename))\n",
        "\n",
        "# Assuming you have already fine-tuned the model and tokenizer\n",
        "model.save_pretrained('./results')\n",
        "tokenizer.save_pretrained('./results')\n",
        "\n",
        "# Optionally, save the generation configuration if used\n",
        "gen_config = GenerationConfig(\n",
        "    max_length=142,\n",
        "    min_length=56,\n",
        "    early_stopping=True,\n",
        "    num_beams=4,\n",
        "    length_penalty=2.0,\n",
        "    no_repeat_ngram_size=3,\n",
        "    forced_bos_token_id=0,\n",
        "    forced_eos_token_id=2\n",
        ")\n",
        "gen_config.save_pretrained('./results')\n",
        "\n",
        "# List of files to keep (fine-tuned files)\n",
        "files_to_keep = [\n",
        "    \"config.json\",\n",
        "    \"generation_config.json\",\n",
        "    \"model.safetensors\",  # or 'pytorch_model.bin'\n",
        "    \"special_tokens_map.json\",\n",
        "    \"spiece.model\",\n",
        "    \"tokenizer.json\",\n",
        "    \"tokenizer_config.json\"\n",
        "]\n",
        "\n",
        "# Print all files in the fine-tuned directory to ensure they are saved\n",
        "print(\"Files in the fine-tuned directory:\")\n",
        "for root, dirs, files in os.walk('./results'):\n",
        "    for filename in files:\n",
        "        print(os.path.join(root, filename))\n",
        "\n",
        "# Step 4: Copy Only Fine-Tuned Files to Google Drive\n",
        "# If the directory exists, delete it first\n",
        "if os.path.exists(drive_save_path):\n",
        "    shutil.rmtree(drive_save_path)\n",
        "\n",
        "# Create the directory in Google Drive\n",
        "os.makedirs(drive_save_path)\n",
        "\n",
        "# Copy only the necessary files to Google Drive\n",
        "for file_name in files_to_keep:\n",
        "    src_path = os.path.join('./results', file_name)\n",
        "    dest_path = os.path.join(drive_save_path, file_name)\n",
        "    if os.path.exists(src_path):\n",
        "        shutil.copy(src_path, dest_path)\n",
        "        print(f\"Copied {src_path} to {dest_path}\")\n",
        "    else:\n",
        "        print(f\"{src_path} does not exist\")\n",
        "\n",
        "# Print all files in the Google Drive save directory to ensure they are saved\n",
        "print(\"Files in the Google Drive save directory:\")\n",
        "for root, dirs, files in os.walk(drive_save_path):\n",
        "    for filename in files:\n",
        "        print(os.path.join(root, filename))\n",
        "\n"
      ],
      "metadata": {
        "colab": {
          "base_uri": "https://localhost:8080/",
          "height": 1000,
          "referenced_widgets": [
            "dae5069ae4764a078ef75d3a3ccff426",
            "404e5bb80a1f415f970dd3dc9ba95fc0",
            "3e95712cd26f43a7bf2bede8c3a64b87",
            "daa210a982de4dbc94ce092143a6add8",
            "c835a36633f543f69ec3cffe0e0ff528",
            "64a475c170e24f578f70eb0d88f75d05",
            "06e4bfc1ba2c4391a248f65c284d36f5",
            "f5b9d312883a46e4a7f7851942c0482d",
            "a9ae3e4194c14e01b202a8e8e4a29a04",
            "42f96ea7a536447d879fb0a71a1bce3d",
            "adab5779c6cd4258b296b86a59f480dc",
            "27a3eeda0e8a4956a3a5a22724108240",
            "5514a44fe5ef40219a9ae97f9a8891f1",
            "bd64b26c6af54a0199e0399ebf9562c1",
            "2118bebf4bf245d6813adbacd8c237a4",
            "864337fffb194cc9ab5926ff87e014db",
            "842564b31b9e408993ea16a09bd02a50",
            "0454f3e9b1804809bdc7970f10f11a08",
            "5c6350efbe994bd3a6a93edc5b7fc2b1",
            "bb5df12448dc4c86b5715fd85ed99c9a",
            "c2c86fab41e343e9876766f0f15d49ab",
            "e7007172b1bf483fbc5030614472e946",
            "d40b57a12e544f129697d8c8bd9bb860",
            "9d2c880ab45e4b5596db1a168fa481dd",
            "b17da5405cd1452d9fea4780ed0216d4",
            "ead3c1445ebf4dc8bd315b5851e0a4ed",
            "18335e5d24c340c5892f3b5f1969d767",
            "6bbbb54878ab4160a1c607514d14896b",
            "24a2d5f2f1ad4e7b94432e67073ed33b",
            "f4f6826e0ad94c27aa02302b734fef0c",
            "75836c12bd80405aa588f8a970914baa",
            "3ecbdf594f3e465fb91460e3eceec4ef",
            "6ebe849e612f4a5e9ab02b6484c67615",
            "e5a77237e6274de381dd8407b51ffa12",
            "a2dee7dfd797494db29494c13b23b491",
            "83737bbe932e4a95b912b657e5810d71",
            "a08aafb4c9cd4981a88d1c6177efb6b7",
            "185e90219aa84d94ac5eecc95a05912d",
            "2e7941b4842f47abaeef04ad850aefef",
            "8e9ac2286fd04dce9832a77ec122443c",
            "1a86906350114c8d86286e6579924276",
            "1b3f2eb810bb4a99994ff3dca508f00f",
            "55d196c9e16444b3a3ebb624a106801f",
            "e43938301d6d42eb80600e8aefa760c3",
            "f6d3f1cc5a794068a1d53c6edf15b6c7",
            "409af10cb5024201bdb0d374689af193",
            "3c575a517a804e919d5cf54273568c22",
            "070173f04f594d1f832f11a7dee4b365",
            "88f732a908614588837db6ad2e309bfd",
            "b1413f05f6314c4186444deece4f28b6",
            "ed5493ff3623411cbffb896b410fff0e",
            "4eb6e3e25fa54b8691baf2823caeb826",
            "99451beedc474ae496f36d732b415b94",
            "e10429a52e77456289734ccf7a692678",
            "f0b1460302a64bdda98c7d9f56eb2c32",
            "9b2a8057a68a4513b0b5ad7577ac87aa",
            "f7172a86e7254fbaa22883f06ab738fe",
            "b74cec9542634489aca507b614440cdf",
            "d289e8ac8ec3430f9d96c07677d3b6f4",
            "d44aadb946d049efa3cbd477ecbae8a5",
            "56b8aa4f223345c3b2ae3d993b4c0b95",
            "7b41187d281f403cbe01993647dec7c6",
            "b27c33925fe64ce985fe3a052fe89c10",
            "a09913988967473eabf5b7d240fc3961",
            "b2e5810a55c14b76bc38043ef4fc5d4c",
            "8fb1fbe0b105409aa2fbf105e7c1d51e"
          ]
        },
        "id": "g7d0Bpnjo0Bh",
        "outputId": "839f91cf-c765-43be-a158-a5f3eae13cf3"
      },
      "execution_count": 3,
      "outputs": [
        {
          "output_type": "stream",
          "name": "stdout",
          "text": [
            "Mounted at /content/drive\n"
          ]
        },
        {
          "output_type": "stream",
          "name": "stderr",
          "text": [
            "/usr/local/lib/python3.10/dist-packages/huggingface_hub/utils/_token.py:89: UserWarning: \n",
            "The secret `HF_TOKEN` does not exist in your Colab secrets.\n",
            "To authenticate with the Hugging Face Hub, create a token in your settings tab (https://huggingface.co/settings/tokens), set it as secret in your Google Colab and restart your session.\n",
            "You will be able to reuse this secret in all of your notebooks.\n",
            "Please note that authentication is recommended but still optional to access public models or datasets.\n",
            "  warnings.warn(\n"
          ]
        },
        {
          "output_type": "display_data",
          "data": {
            "text/plain": [
              "tokenizer_config.json:   0%|          | 0.00/88.0 [00:00<?, ?B/s]"
            ],
            "application/vnd.jupyter.widget-view+json": {
              "version_major": 2,
              "version_minor": 0,
              "model_id": "dae5069ae4764a078ef75d3a3ccff426"
            }
          },
          "metadata": {}
        },
        {
          "output_type": "stream",
          "name": "stderr",
          "text": [
            "/usr/local/lib/python3.10/dist-packages/huggingface_hub/file_download.py:1132: FutureWarning: `resume_download` is deprecated and will be removed in version 1.0.0. Downloads always resume when possible. If you want to force a new download, use `force_download=True`.\n",
            "  warnings.warn(\n"
          ]
        },
        {
          "output_type": "display_data",
          "data": {
            "text/plain": [
              "config.json:   0%|          | 0.00/3.09k [00:00<?, ?B/s]"
            ],
            "application/vnd.jupyter.widget-view+json": {
              "version_major": 2,
              "version_minor": 0,
              "model_id": "27a3eeda0e8a4956a3a5a22724108240"
            }
          },
          "metadata": {}
        },
        {
          "output_type": "display_data",
          "data": {
            "text/plain": [
              "spiece.model:   0%|          | 0.00/1.91M [00:00<?, ?B/s]"
            ],
            "application/vnd.jupyter.widget-view+json": {
              "version_major": 2,
              "version_minor": 0,
              "model_id": "d40b57a12e544f129697d8c8bd9bb860"
            }
          },
          "metadata": {}
        },
        {
          "output_type": "display_data",
          "data": {
            "text/plain": [
              "special_tokens_map.json:   0%|          | 0.00/65.0 [00:00<?, ?B/s]"
            ],
            "application/vnd.jupyter.widget-view+json": {
              "version_major": 2,
              "version_minor": 0,
              "model_id": "e5a77237e6274de381dd8407b51ffa12"
            }
          },
          "metadata": {}
        },
        {
          "output_type": "display_data",
          "data": {
            "text/plain": [
              "pytorch_model.bin:   0%|          | 0.00/2.28G [00:00<?, ?B/s]"
            ],
            "application/vnd.jupyter.widget-view+json": {
              "version_major": 2,
              "version_minor": 0,
              "model_id": "f6d3f1cc5a794068a1d53c6edf15b6c7"
            }
          },
          "metadata": {}
        },
        {
          "output_type": "stream",
          "name": "stderr",
          "text": [
            "Some weights of PegasusForConditionalGeneration were not initialized from the model checkpoint at google/pegasus-large and are newly initialized: ['model.decoder.embed_positions.weight', 'model.encoder.embed_positions.weight']\n",
            "You should probably TRAIN this model on a down-stream task to be able to use it for predictions and inference.\n"
          ]
        },
        {
          "output_type": "display_data",
          "data": {
            "text/plain": [
              "generation_config.json:   0%|          | 0.00/260 [00:00<?, ?B/s]"
            ],
            "application/vnd.jupyter.widget-view+json": {
              "version_major": 2,
              "version_minor": 0,
              "model_id": "9b2a8057a68a4513b0b5ad7577ac87aa"
            }
          },
          "metadata": {}
        },
        {
          "output_type": "stream",
          "name": "stderr",
          "text": [
            "Some non-default generation parameters are set in the model config. These should go into a GenerationConfig file (https://huggingface.co/docs/transformers/generation_strategies#save-a-custom-decoding-strategy-with-your-model) instead. This warning will be raised to an exception in v4.41.\n",
            "Non-default generation parameters: {'max_length': 256, 'num_beams': 8, 'length_penalty': 0.8, 'forced_eos_token_id': 1}\n",
            "Some non-default generation parameters are set in the model config. These should go into a GenerationConfig file (https://huggingface.co/docs/transformers/generation_strategies#save-a-custom-decoding-strategy-with-your-model) instead. This warning will be raised to an exception in v4.41.\n",
            "Non-default generation parameters: {'max_length': 256, 'num_beams': 8, 'length_penalty': 0.8, 'forced_eos_token_id': 1}\n"
          ]
        },
        {
          "output_type": "stream",
          "name": "stdout",
          "text": [
            "Files in the save directory:\n",
            "./pretrained_pegasus_large/config.json\n",
            "./pretrained_pegasus_large/model.safetensors\n",
            "./pretrained_pegasus_large/tokenizer.json\n",
            "./pretrained_pegasus_large/spiece.model\n",
            "./pretrained_pegasus_large/special_tokens_map.json\n",
            "./pretrained_pegasus_large/tokenizer_config.json\n",
            "./pretrained_pegasus_large/generation_config.json\n",
            "Files in the fine-tuned directory:\n",
            "./results/config.json\n",
            "./results/model.safetensors\n",
            "./results/tokenizer.json\n",
            "./results/spiece.model\n",
            "./results/special_tokens_map.json\n",
            "./results/tokenizer_config.json\n",
            "./results/generation_config.json\n",
            "Copied ./results/config.json to /content/drive/My Drive/fine_tuned_model/config.json\n",
            "Copied ./results/generation_config.json to /content/drive/My Drive/fine_tuned_model/generation_config.json\n",
            "Copied ./results/model.safetensors to /content/drive/My Drive/fine_tuned_model/model.safetensors\n",
            "Copied ./results/special_tokens_map.json to /content/drive/My Drive/fine_tuned_model/special_tokens_map.json\n",
            "Copied ./results/spiece.model to /content/drive/My Drive/fine_tuned_model/spiece.model\n",
            "Copied ./results/tokenizer.json to /content/drive/My Drive/fine_tuned_model/tokenizer.json\n",
            "Copied ./results/tokenizer_config.json to /content/drive/My Drive/fine_tuned_model/tokenizer_config.json\n",
            "Files in the Google Drive save directory:\n",
            "/content/drive/My Drive/fine_tuned_model/config.json\n",
            "/content/drive/My Drive/fine_tuned_model/generation_config.json\n",
            "/content/drive/My Drive/fine_tuned_model/model.safetensors\n",
            "/content/drive/My Drive/fine_tuned_model/special_tokens_map.json\n",
            "/content/drive/My Drive/fine_tuned_model/spiece.model\n",
            "/content/drive/My Drive/fine_tuned_model/tokenizer.json\n",
            "/content/drive/My Drive/fine_tuned_model/tokenizer_config.json\n"
          ]
        }
      ]
    },
    {
      "cell_type": "markdown",
      "source": [
        "take a look at this: https://huggingface.co/docs/transformers/generation_strategies#save-a-custom-decoding-strategy-with-your-model"
      ],
      "metadata": {
        "id": "isepRmnpvfFJ"
      }
    },
    {
      "cell_type": "markdown",
      "source": [
        "Dataload / data preproc etc not in collab"
      ],
      "metadata": {
        "id": "nH8A1ApIyWDE"
      }
    },
    {
      "cell_type": "markdown",
      "source": [
        "# Define the dataset name\n",
        "dataset_name = \"this can vary\"\n"
      ],
      "metadata": {
        "id": "CmMu3WOAyaMr"
      }
    },
    {
      "cell_type": "code",
      "source": [
        "# dataset_name = \"cnn_dailymail\"\n",
        "# dataset_version = \"3.0.0\"\n"
      ],
      "metadata": {
        "id": "Ndqh82Hgymi4"
      },
      "execution_count": 4,
      "outputs": []
    },
    {
      "cell_type": "markdown",
      "source": [
        "Load temporary dataset, currently temp future final temp down."
      ],
      "metadata": {
        "id": "UQc5NX1oqdpA"
      }
    },
    {
      "cell_type": "markdown",
      "source": [],
      "metadata": {
        "id": "nDHkfiXo30in"
      }
    },
    {
      "cell_type": "code",
      "source": [
        "import json\n",
        "import pandas as pd\n",
        "\n",
        "train_json_file_path = '/content/drive/My Drive/Data_ML2/ECTSum_train.jsonl'\n",
        "val_json_file_path = '/content/drive/My Drive/Data_ML2/ECTSum_val.jsonl'\n",
        "test_json_file_path = '/content/drive/My Drive/Data_ML2/ECTSum_test.jsonl'\n",
        "\n",
        "# Set the dataset name\n",
        "dataset_short_name = 'ECTSum'\n",
        "\n",
        "# Read the JSONL files\n",
        "train_data = []\n",
        "with open(train_json_file_path, 'r') as file:\n",
        "    for line in file:\n",
        "        train_data.append(json.loads(line))\n",
        "\n",
        "val_data = []\n",
        "with open(val_json_file_path, 'r') as file:\n",
        "    for line in file:\n",
        "        val_data.append(json.loads(line))\n",
        "\n",
        "test_data = []\n",
        "with open(test_json_file_path, 'r') as file:\n",
        "    for line in file:\n",
        "        test_data.append(json.loads(line))\n",
        "\n",
        "# Convert to DataFrames for better handling\n",
        "train_df = pd.DataFrame(train_data)\n",
        "val_df = pd.DataFrame(val_data)\n",
        "test_df = pd.DataFrame(test_data)\n",
        "\n",
        "# Combine the datasets for preprocessing and fine-tuning\n",
        "combined_df = pd.concat([train_df, val_df, test_df], ignore_index=True)\n",
        "\n",
        "\n",
        "# Retrieve a random sample\n",
        "random_index = random.randint(0, len(combined_df) - 1)\n",
        "initial_sample = combined_df.iloc[random_index]\n",
        "print(\"Random sample from the initial dataset (before processing):\")\n",
        "print(initial_sample)\n",
        "#Load the dataset\n",
        "dataset = Dataset.from_pandas(combined_df)\n",
        "\n",
        "# Load the tokenizer\n",
        "model_name = \"google/pegasus-large\"\n",
        "tokenizer = AutoTokenizer.from_pretrained(model_name)\n",
        "\n",
        "# Define a preprocessing function\n",
        "# Define a preprocessing function\n",
        "def preprocess_function(examples):\n",
        "    inputs = examples['input']\n",
        "    targets = examples['summary']\n",
        "    model_inputs = tokenizer(inputs, max_length=512, truncation=True, padding=\"max_length\")\n",
        "    labels = tokenizer(targets, max_length=128, truncation=True, padding=\"max_length\")\n",
        "    model_inputs[\"labels\"] = labels[\"input_ids\"]\n",
        "    return model_inputs\n",
        "# Apply the preprocessing function to the dataset\n",
        "\n",
        "# Define a preprocessing function\n",
        "def preprocess_function(examples):\n",
        "    inputs = examples['input']\n",
        "    targets = examples['summary']\n",
        "    model_inputs = tokenizer(inputs, max_length=512, truncation=True, padding=\"max_length\")\n",
        "    labels = tokenizer(targets, max_length=128, truncation=True, padding=\"max_length\")\n",
        "    model_inputs[\"labels\"] = labels[\"input_ids\"]\n",
        "    return model_inputs\n",
        "\n",
        "# Apply the preprocessing function to the dataset\n",
        "processed_dataset = dataset.map(preprocess_function, batched=True)\n",
        "\n",
        "# Retrieve the processed sample\n",
        "processed_sample = processed_dataset[random_index]\n",
        "print(\"\\nRandom sample from the processed dataset (after processing):\")\n",
        "print(processed_sample)\n",
        "# dataset = load_dataset(dataset_name, dataset_version)\n",
        "\n",
        "# random_index = random.randint(0, len(dataset[\"train\"]) - 1)\n",
        "# initial_sample = dataset[\"train\"][random_index]\n",
        "# print(\"Random sample from the initial dataset:\")\n",
        "# print(pd.DataFrame([initial_sample]))\n",
        "\n",
        "# train_dataset = dataset[\"train\"].select(range(500))  # Increase subset size for more data\n",
        "# validation_dataset = dataset[\"validation\"].select(range(1000))  # Increase subset size for validation\n",
        "# test_dataset = dataset[\"test\"]\n",
        "\n",
        "# dataset_short_name = dataset_name[:5]  # Get the first five letters of the dataset name\n",
        "\n",
        "\n",
        "# # # Load the dataset\n",
        "# # dataset = load_dataset(dataset_name, \"3.0.0\") # specifiy version manually\n",
        "# # #sample before:\n",
        "# # random_index = random.randint(0, len(dataset[\"train\"]) - 1)\n",
        "# # initial_sample = dataset[\"train\"][random_index]\n",
        "# # print(\"Random sample from the initial dataset:\")\n",
        "# # print(pd.DataFrame([initial_sample]))\n",
        "\n",
        "\n",
        "# # train_dataset = dataset[\"train\"].select(range(500))  # Increase subset size for more data\n",
        "# # validation_dataset = dataset[\"validation\"].select(range(1000))  # Increase subset size for validation\n",
        "# # test_dataset = dataset[\"test\"]\n"
      ],
      "metadata": {
        "colab": {
          "base_uri": "https://localhost:8080/",
          "height": 243,
          "referenced_widgets": [
            "5416359437b249d8a5dd585d06bd9020",
            "e2ca57f4235144c7955a63a445755ae6",
            "d881dd84ebd3408c95eb479ba4e89a1f",
            "b6f932b5f54945aeb870769b6910f01b",
            "0bb4e782ff2e4f3d9ecf99a4cae71b56",
            "9bcea838b8334af9b43d4bf3faaef209",
            "baa4e01ab2f742ba866686b66d83dff3",
            "958d9de7a9be457789ac9d954b11a37f",
            "6917b4a3a18643e58be3c3798e48801e",
            "c5b0464dd0514e50adc553ed448d1390",
            "327c0198a5f342dd99972523d799550f"
          ]
        },
        "id": "kzkwBa5cykrs",
        "outputId": "9134d1d4-d510-43eb-e2a7-98c0be58e152"
      },
      "execution_count": 5,
      "outputs": [
        {
          "output_type": "stream",
          "name": "stdout",
          "text": [
            "Random sample from the initial dataset (before processing):\n",
            "ticker                                                   CBT\n",
            "quarter                                                   q4\n",
            "year                                                    2021\n",
            "input      Last night,we released results for our fourth ...\n",
            "summary    compname reports fourth quarter diluted earnin...\n",
            "Name: 219, dtype: object\n"
          ]
        },
        {
          "output_type": "display_data",
          "data": {
            "text/plain": [
              "Map:   0%|          | 0/2425 [00:00<?, ? examples/s]"
            ],
            "application/vnd.jupyter.widget-view+json": {
              "version_major": 2,
              "version_minor": 0,
              "model_id": "5416359437b249d8a5dd585d06bd9020"
            }
          },
          "metadata": {}
        },
        {
          "output_type": "stream",
          "name": "stdout",
          "text": [
            "\n",
            "Random sample from the processed dataset (after processing):\n",
            "{'ticker': 'CBT', 'quarter': 'q4', 'year': '2021', 'input': \"Last night,we released results for our fourth quarter of fiscal year 2021, copies of which are posted in the Investor Relations section of our website.\\nIn order to provide greater transparency regarding our operating performance, we refer to certain non-GAAP financial measures that involve adjustments to GAAP results.\\nAny non-GAAP financial measures presented should not be considered to be an alternative to financial measures required by GAAP.\\nErica will review the business segment and corporate financial details.\\nAt this time last year.\\nI talked about being prepared to win as the recovery takes hold and I think 2021 is evidence that we were prepared.\\nFiscal 2021 was a remarkable year for Cabot as the business recovered from the 2020 COVID lows to deliver record results.\\nWe accomplished this through a combination of extraordinary execution and our commitment to driving growth through differentiated investments.\\nI would like to spend a little time now recapping the accomplishments of the year.\\nThe Cabot operating model is built on the foundations of commercial and operational excellence and our strength in these disciplines drove our outstanding results in fiscal year 2021.\\nWe delivered record adjusted earnings per share of $5.02 and total segment EBIT of $550 million.\\nAnd our focus on cash, resulted in a record discretionary free cash flow of $353 million.\\nThe macro environment in 2021 required resilience and agility and I'm very proud of the Cabot team in how they work tirelessly to support our customers' evolving needs.\\nServing our customers and innovating to grow with them is what motivates our team.\\nThis was made more challenging in 2021 given the myriad global supply chain disruptions that companies face and the fact that necessary COVID safety protocols continue to evolve and adjust our normal ways of working.\\nAdditionally, companies experienced sharply rising input costs, which required dynamic commercial management.\\nOur teams worked closely with our customers to manage through this environment and we were successful in our pricing efforts to ensure our margins remained robust and we could invest to support our customers long-term supply needs.\\nFiscal year 2021 mark the sixth year of our advancing the core strategy and I'm very pleased with our record of execution and the growth prospects for our company.\\nAdjusted earnings per share has grown at a compound annual growth rate of 11% since the inception of our strategy, ahead of our 7% to 10% target.\\nA growth focus built around our core segments and disciplined execution have been the hallmarks of our approach.\\nAs pleased as we are with the results since 2015, I'm even more excited about the growth opportunities that lie in front of us and the progress we made in 2021.\\nOur growth strategy is built on a philosophy of investing from positions of strength and where we have what we call a right to win.\\nA few highlights from 2021 are particularly noteworthy.\\nOur unmatched portfolio of conductive carbon additives in our strong customer focus model resulted in a doubling of revenue in our battery materials business year-over-year.\\nWe are progressing with the specialty carbons conversion of our plants in Xuzhou, China and this investment will provide growth across our broad range of specialty carbon applications and will free up additional capacity to support battery materials.\\nOur inkjet business is well positioned to capitalize on the shift in the commercial and packaging segments from analog to digital printing and we achieved multiple OEM qualifications in 2021 that set us up well for growth as inkjet presses penetrate these markets.\\nAnd finally, we continue to the execution of a project to build a specialty compounds production line in Cilegon, Indonesia, which will allow us to meet customer demand for black masterbatch in this high growth region.\\nWhile growth and execution are highlights from 2021, these accomplishments have been achieved with sustainability at the core.\\nWe continued our sustainability journey in 2021 with several noteworthy accomplishments.\\nFirst and foremost, we committed to align our disclosures with the recommendations of the Task Force for Climate Related Financial Disclosure or TCFD and we engaged a third party to help us evaluate climate risks and opportunities following the TCFD guidelines.\\nWe intend to share the results of this work in the coming months.\\nWhile the operating rhythm of 2021 was challenging, I'm very proud of our performance in employee safety.\\nOur total recordable incident rates of 0.34 keeps us firmly in the upper echelon of chemical and industrial companies.\\nWe also completed a major air emissions control project at our carbon black manufacturing facility located in Louisiana.\\nThis investment in control technology will result in improved air quality through the substantial elimination of nitrogen oxide and sulfur dioxide emissions and will ensure that we can support our customer supply needs in a sustainable fashion over the long term.\\nIn addition, waste heat from the plant is being recovered and used to generate up to 50MW of cogen power without creating any additional emissions.\\nIn August, we announced a new $1 billion revolving credit facility that has pricing that is based on the company's credit ratings, as well as our performance against annual intensity reduction targets for sulfur dioxide and nitrogen oxide emissions.\\nThe transaction reinforces our commitment to sustainability and was one of the first sustainability-linked revolving credit agreements in the U.S. chemical industry.\\nLastly, as a chemical industry, we need to attract the next generation of talented and diverse candidates into our field of chemistry.\\nIn support of this aim, Cabot is taking part in an industry effort to support the Future of STEM Scholars Initiative or FOSSI, which focuses on creating pathways for students at historically black colleges and universities to enter and succeed in STEM careers within the chemical industry.\\nThis initiative will have a lasting and transformational impact on the students and our industry and we are proud to be an inaugural sponsor.\\nOverall, we had a very successful 2021 in terms of financial performance and progress against our strategic objectives.\\nThis well-rounded performance is a testament to the positioning of our portfolio and our exceptional team.\\nNow a few comments on the fourth quarter.\\nI am pleased to report solid fourth quarter results with adjusted earnings per share of $1.11.\\nThis performance was 63% above the same quarter last year despite the effects of the semiconductor chip shortage and ongoing global supply chain disruptions, as well as a higher level of maintenance spending due to the timing of turnarounds.\\nWe also continue the momentum of battery materials and ended the year with EBITDA in our previously communicated range of $15 million to $20 million.\\nCash flow from operations was strong at $100 million in the quarter despite the impact of higher raw material prices.\\nI will start with discussing results in the Reinforcement Materials segment.\\nDuring the fourth quarter and full year of fiscal 2021, EBIT for Reinforcement Materials increased by $8 million and $167 million respectively, as compared to the same periods in the prior year.\\nThe increases were principally due to higher unit margins and higher volumes.\\nHigher margins were driven by higher spot pricing, particularly in Asia.\\nThe higher volumes in the fourth quarter and full year of fiscal 2021 were due to a strong recovery in all regions from the COVID related impacts in fiscal 2020.\\nThe fourth quarter results were also impacted by higher costs associated with the plant maintenance.\\nGlobally, volumes were up 6% in the fourth quarter as compared to the same period of the prior year due to 6% growth in the Americas, 5% increase in Europe and up 7% in Asia.\\nHigher volumes were driven by strong demand in all regions as the replacement tire market remain robust.\\nLooking at the first quarter of fiscal 2022, we expect a sequential increase in EBIT from a decrease in fixed costs with lower plant maintenance spend and as volumes are expected to increase modestly sequentially as demand for replacement tire remains solid.\\nNow turning to Performance Chemicals.\\nEBIT increased by $20 million in the fourth quarter and $93 million for the full year as compared to the same periods in fiscal 2020, primarily due to improved product mix, stronger volumes and higher customer pricing.\\nThe stronger product mix was driven by an increase in sales into automotive and conductive carbon applications in our specialty carbons and compounds product line.\\nPricing improved year-over-year in our fumed silica product lines, particularly in China.\\nYear-over-year volumes in the fourth fiscal quarter increased by 2% in performance additives and decreased by 8% in formulated solutions.\\nVolumes were impacted during the quarter, largely due to two plant outages as we discussed on last quarter's call.\\nThis segment experienced increased maintenance costs in the fourth fiscal quarter as expected, but these higher costs were offset by $7 million of insurance proceeds related to a claim from earlier in fiscal 2021.\\nLooking ahead to the first quarter of fiscal 2022, we expect sequential volume growth as one of the impacted plants came back online and a positive benefit from growth in our battery materials product line.\\nWe anticipate higher input costs in the first quarter that will temporarily impact results until our latest round of announced price increases and surcharges can be fully implemented to recoup the rising costs.\\nMoving to Purification Solutions.\\nEBIT in the fourth quarter of 2021 increased by $4 million compared to the fourth quarter of fiscal 2020 and full year EBIT increased $7 million.\\nThe increases were driven by lower fixed costs from the sale of the mine in Texas and the related long-term activated carbon supply agreement and the favorable impact from improved pricing in our specialty applications.\\nLooking ahead to the first quarter of fiscal 2022, we expect EBIT to decline sequentially due to seasonally lower volumes and higher maintenance costs due to planned turnaround activities.\\nI will now turn to corporate items.\\nWe ended the quarter with a cash balance of $168 million and our liquidity position remains strong at approximately $1.3 billion.\\nDuring the fourth quarter of fiscal 2021, cash flows from operating activities were $100 million, which included a working capital decrease of $4 million.\\nCapital expenditures for the fourth quarter of fiscal 2021 were $80 million and additional uses of cash during the fourth quarter were $20 million for dividends.\\nDuring fiscal 2021, we generated $257 million of cash flow from operations, including an increase in net working capital of $222 million.\\nThe working capital increase was largely driven by the impact of higher raw material costs on our inventory balances and accounts receivable balances as we passed higher costs onto our customers in our pricing.\\nThe increase was also partially driven by the growth in our business year-over-year.\\nCapital expenditures for fiscal year 2021 were $195 million dollars, which included both our targeted growth investments and the spend related to U.S. EPA compliance projects.\\nWe expect capital expenditures in fiscal 2022 to be between $225 million and $250 million.\\nThis estimate includes continued U.S. EPA related capital compliance spend and increased spending on growth projects related to high confidence, high return areas of the portfolio.\\nThe growth related capital includes completing the conversion of upgrading our new China carbon black plant to produce specialty carbons, which is planned to come online in the second half of 2022.\\nIn addition, we are executing on a new specialty compounds unit in Indonesia and have planned growth capital related to capacity expansions in battery materials and inkjet.\\nAdditional uses of cash during the fiscal year included $80 million for dividends.\\nThe operating tax rate for fiscal year 2021 was 27% and we anticipate our operating tax rate for fiscal 2022 to be in the range of 27% to 29%.\\nAs we look ahead to 2022, I'm excited about the growth opportunities in front of us.\\nLet me take a couple of minutes to share with you our priorities for the upcoming year.\\nFirst, we will finalize our 2022 tire customer agreements and we remain positive about the outcome as security of supply remains the top priority for customers.\\nDemand continues to be strong and is projected to be robust in all regions.\\nInventories levels are low across the value chain and global transportation flows remain challenging, all of which are placing a greater premium on local supply.\\nSecond, we'll continue to advance a broad portfolio of strategic growth investments across the company.\\nIn battery materials, we plan to expand capacity at our carbon nanotube facility in Zhuhai, China.\\nAdditionally, the aforementioned specialty carbons conversion of our Suzhou plant will provide 50,000 metric tons of growth capacity across specialty carbons and will free up our network to support growth of battery materials.\\nWe also expect to complete our new specialty compounds production unit in Indonesia later in the calendar year 2022, which will enable us to build on our strong position in the high growth ASEAN region.\\nAnd finally, we intend to build on our track record of execution by delivering earnings growth and strong cash flow, while maintaining our investment grade rating and industry-leading dividend.\\nI hope this gives you some color on our priorities for 2022.\\nI'll close out my prepared comments today by talking about our outlook for the year.\\nClearly, we are pleased with the momentum coming out of fiscal 2021 and we feel very good about how the new year is shaping up.\\nWe expect a step-up in Reinforcement Materials starting in the second quarter based on an expected positive outcome from our 2022 customer agreements.\\nWe anticipate improved results across all product lines in the Performance Chemicals segment with above-market growth in our battery materials and inkjet product lines.\\nBased on this, we expect adjusted earnings per share for the fiscal year 2020 to be in the range of $5.20 to $5.60.\\nThe first quarter results are expected to be generally in line with the fourth quarter with results accelerating as we move through the year.\\nOn the cash side, we anticipate strong free cash flow from year-over-year earnings growth, partially offset by an increase in working capital to support growth.\\nCash flow will be used to fund advantage growth investments, dividends and opportunistic share repurchases.\\nOverall, I'm very excited about where we are as a company and where we're going.\\nThe growth opportunities we have in front of us are better than they have been at any point during my time as CEO.\\nThe long-term fundamentals of our businesses are strong.\\nOur end markets remain robust and we continue to execute at a high level.\\nLooking ahead, we believe we have a winning formula, a talented team, an excellent portfolio of businesses that for growth and a strong balance sheet, all of which position us to deliver on our strategic objectives and continue to grow and lead in our industry.\\n\", 'summary': 'compname reports fourth quarter diluted earnings per share of $0.50 and adjusted earnings per share of $1.11.\\nq4 adjusted earnings per share $1.11.\\nsees fy 2022 adjusted earnings per share $5.20 to $5.60.\\ncoterra energy qtrly believe robust end-market demand will continue.\\ncoterra energy - in our reinforcement materials segment, expect fy to benefit from higher volumes.\\ncoterra energy - in performance chemicals segment, anticipate particular strength in battery materials and inkjet packaging in fy.\\n', 'input_ids': [2882, 565, 108, 2625, 1291, 602, 118, 150, 2868, 2349, 113, 7037, 232, 57321, 4862, 113, 162, 127, 1155, 115, 109, 23265, 10800, 1201, 113, 150, 387, 107, 222, 385, 112, 319, 1626, 7486, 1409, 150, 1901, 637, 108, 145, 3984, 112, 878, 609, 121, 53047, 748, 2548, 120, 4721, 7772, 112, 57501, 602, 107, 2533, 609, 121, 53047, 748, 2548, 1848, 246, 146, 129, 1341, 112, 129, 142, 2049, 112, 748, 2548, 656, 141, 57501, 107, 32168, 138, 933, 109, 260, 5125, 111, 1933, 748, 703, 107, 654, 136, 166, 289, 232, 107, 125, 4337, 160, 270, 1831, 112, 1023, 130, 109, 2597, 839, 1137, 111, 125, 311, 30013, 117, 1812, 120, 145, 195, 1831, 107, 31775, 30013, 140, 114, 5157, 232, 118, 52095, 130, 109, 260, 9256, 135, 109, 7149, 4585, 44078, 580, 116, 112, 1511, 1093, 602, 107, 184, 5934, 136, 224, 114, 1852, 113, 5217, 6050, 111, 150, 2386, 112, 1528, 874, 224, 29549, 4313, 107, 125, 192, 172, 112, 1178, 114, 332, 166, 239, 96032, 109, 12456, 113, 109, 232, 107, 139, 52095, 1901, 861, 117, 836, 124, 109, 9794, 113, 1162, 111, 4594, 5037, 111, 150, 1881, 115, 219, 8444, 6192, 150, 2796, 602, 115, 7037, 232, 34315, 184, 2336, 1093, 7460, 5264, 446, 537, 113, 5257, 107, 10841, 111, 916, 5125, 110, 71732, 113, 71787, 604, 107, 325, 150, 777, 124, 1325, 108, 5455, 115, 114, 1093, 33192, 294, 1325, 1971, 113, 16025, 726, 604, 107, 139, 10821, 849, 115, 30013, 656, 11951, 111, 17239, 111, 125, 131, 208, 221, 2038, 113, 109, 52095, 320, 115, 199, 157, 201, 22661, 112, 337, 150, 527, 131, 8614, 397, 107, 15916, 150, 527, 111, 36147, 112, 1248, 122, 183, 117, 180, 28246, 150, 320, 107, 182, 140, 266, 154, 2782, 115, 30013, 634, 109, 12190, 1122, 1376, 2552, 31226, 120, 524, 749, 111, 109, 617, 120, 993, 4585, 44078, 1008, 10607, 801, 112, 9714, 111, 4364, 150, 1644, 771, 113, 375, 107, 4173, 108, 524, 1267, 19480, 4220, 3196, 973, 108, 162, 656, 3248, 1162, 603, 107, 409, 1518, 947, 2851, 122, 150, 527, 112, 1618, 224, 136, 849, 111, 145, 195, 1147, 115, 150, 3284, 1645, 112, 615, 150, 11691, 4615, 5076, 111, 145, 256, 3504, 112, 337, 150, 527, 300, 121, 1704, 1376, 397, 107, 31775, 232, 30013, 2689, 109, 6932, 232, 113, 150, 12362, 109, 1962, 1520, 111, 125, 131, 208, 221, 3042, 122, 150, 1093, 113, 6050, 111, 109, 874, 6587, 118, 150, 301, 107, 25832, 316, 5264, 446, 537, 148, 2763, 134, 114, 8191, 1450, 874, 872, 113, 28185, 381, 109, 12188, 113, 150, 1520, 108, 1573, 113, 150, 22980, 112, 5029, 1762, 107, 202, 874, 777, 836, 279, 150, 1962, 8662, 111, 21875, 6050, 133, 174, 109, 42046, 113, 150, 1014, 107, 398, 3042, 130, 145, 127, 122, 109, 602, 381, 4763, 125, 131, 208, 254, 154, 1884, 160, 109, 874, 1170, 120, 5372, 115, 683, 113, 214, 111, 109, 1974, 145, 266, 115, 34315, 409, 874, 1520, 117, 836, 124, 114, 4679, 113, 4639, 135, 3157, 113, 1881, 111, 1], 'attention_mask': [1, 1, 1, 1, 1, 1, 1, 1, 1, 1, 1, 1, 1, 1, 1, 1, 1, 1, 1, 1, 1, 1, 1, 1, 1, 1, 1, 1, 1, 1, 1, 1, 1, 1, 1, 1, 1, 1, 1, 1, 1, 1, 1, 1, 1, 1, 1, 1, 1, 1, 1, 1, 1, 1, 1, 1, 1, 1, 1, 1, 1, 1, 1, 1, 1, 1, 1, 1, 1, 1, 1, 1, 1, 1, 1, 1, 1, 1, 1, 1, 1, 1, 1, 1, 1, 1, 1, 1, 1, 1, 1, 1, 1, 1, 1, 1, 1, 1, 1, 1, 1, 1, 1, 1, 1, 1, 1, 1, 1, 1, 1, 1, 1, 1, 1, 1, 1, 1, 1, 1, 1, 1, 1, 1, 1, 1, 1, 1, 1, 1, 1, 1, 1, 1, 1, 1, 1, 1, 1, 1, 1, 1, 1, 1, 1, 1, 1, 1, 1, 1, 1, 1, 1, 1, 1, 1, 1, 1, 1, 1, 1, 1, 1, 1, 1, 1, 1, 1, 1, 1, 1, 1, 1, 1, 1, 1, 1, 1, 1, 1, 1, 1, 1, 1, 1, 1, 1, 1, 1, 1, 1, 1, 1, 1, 1, 1, 1, 1, 1, 1, 1, 1, 1, 1, 1, 1, 1, 1, 1, 1, 1, 1, 1, 1, 1, 1, 1, 1, 1, 1, 1, 1, 1, 1, 1, 1, 1, 1, 1, 1, 1, 1, 1, 1, 1, 1, 1, 1, 1, 1, 1, 1, 1, 1, 1, 1, 1, 1, 1, 1, 1, 1, 1, 1, 1, 1, 1, 1, 1, 1, 1, 1, 1, 1, 1, 1, 1, 1, 1, 1, 1, 1, 1, 1, 1, 1, 1, 1, 1, 1, 1, 1, 1, 1, 1, 1, 1, 1, 1, 1, 1, 1, 1, 1, 1, 1, 1, 1, 1, 1, 1, 1, 1, 1, 1, 1, 1, 1, 1, 1, 1, 1, 1, 1, 1, 1, 1, 1, 1, 1, 1, 1, 1, 1, 1, 1, 1, 1, 1, 1, 1, 1, 1, 1, 1, 1, 1, 1, 1, 1, 1, 1, 1, 1, 1, 1, 1, 1, 1, 1, 1, 1, 1, 1, 1, 1, 1, 1, 1, 1, 1, 1, 1, 1, 1, 1, 1, 1, 1, 1, 1, 1, 1, 1, 1, 1, 1, 1, 1, 1, 1, 1, 1, 1, 1, 1, 1, 1, 1, 1, 1, 1, 1, 1, 1, 1, 1, 1, 1, 1, 1, 1, 1, 1, 1, 1, 1, 1, 1, 1, 1, 1, 1, 1, 1, 1, 1, 1, 1, 1, 1, 1, 1, 1, 1, 1, 1, 1, 1, 1, 1, 1, 1, 1, 1, 1, 1, 1, 1, 1, 1, 1, 1, 1, 1, 1, 1, 1, 1, 1, 1, 1, 1, 1, 1, 1, 1, 1, 1, 1, 1, 1, 1, 1, 1, 1, 1, 1, 1, 1, 1, 1, 1, 1, 1, 1, 1, 1, 1, 1, 1, 1, 1, 1, 1, 1, 1, 1, 1, 1, 1, 1, 1, 1, 1, 1, 1, 1, 1, 1, 1, 1, 1, 1, 1, 1, 1, 1, 1, 1, 1, 1], 'labels': [12009, 7982, 1574, 2868, 2349, 24672, 5264, 446, 537, 113, 81421, 111, 7460, 5264, 446, 537, 113, 36700, 2192, 15593, 914, 7460, 5264, 446, 537, 36700, 2192, 6659, 110, 22001, 34372, 7460, 5264, 446, 537, 5257, 107, 3214, 112, 5257, 107, 39198, 1229, 27901, 644, 39405, 551, 445, 697, 5076, 370, 121, 8929, 1806, 138, 801, 107, 1229, 27901, 644, 233, 115, 150, 19189, 917, 5125, 108, 1337, 110, 22001, 112, 1280, 135, 902, 7912, 107, 1229, 27901, 644, 233, 115, 637, 5084, 5125, 108, 9299, 970, 1881, 115, 2221, 917, 111, 30278, 4128, 115, 110, 22001, 107, 1, 0, 0, 0, 0, 0, 0, 0, 0, 0, 0, 0, 0, 0, 0, 0, 0, 0, 0, 0, 0, 0, 0, 0, 0, 0, 0, 0, 0, 0]}\n"
          ]
        }
      ]
    },
    {
      "cell_type": "code",
      "source": [
        "# # Load the dataset\n",
        "\n",
        "# dataset = load_dataset(\"cnn_dailymail\", \"3.0.0\")\n",
        "# train_dataset = dataset[\"train\"].select(range(1900))  # Increase subset size for more data\n",
        "\n",
        "# #smaller dataset chosen for practical reason final dataset was:\n",
        "\n",
        "# #train_dataset = dataset[\"train\"].select(range(500))  # Increase subset size for more data\n",
        "# validation_dataset = dataset[\"validation\"].select(range(1100))  # Increase subset size for validation\n",
        "# test_dataset = dataset[\"test\"]\n"
      ],
      "metadata": {
        "id": "mLea7tFQoz-j"
      },
      "execution_count": 6,
      "outputs": []
    },
    {
      "cell_type": "markdown",
      "source": [],
      "metadata": {
        "id": "R592v8xV0Iy2"
      }
    },
    {
      "cell_type": "markdown",
      "source": [
        "Preprocess Data"
      ],
      "metadata": {
        "id": "nmRjZMRgqquU"
      }
    },
    {
      "cell_type": "code",
      "source": [
        "# Preprocess the data\n",
        "def preprocess_function(examples):\n",
        "    inputs = [doc for doc in examples[\"article\"]]\n",
        "    model_inputs = tokenizer(inputs, max_length=512, truncation=True, padding=\"max_length\")  # Reduced max_length\n",
        "    labels = tokenizer(text_target=examples[\"highlights\"], max_length=128, truncation=True, padding=\"max_length\")\n",
        "    model_inputs[\"labels\"] = labels[\"input_ids\"]\n",
        "    return model_inputs\n",
        "\n",
        "train_dataset = train_dataset.map(preprocess_function, batched=True)\n",
        "validation_dataset = validation_dataset.map(preprocess_function, batched=True)\n",
        "test_dataset = test_dataset.map(preprocess_function, batched=True)\n"
      ],
      "metadata": {
        "colab": {
          "base_uri": "https://localhost:8080/",
          "height": 211
        },
        "id": "lVcSa16gy9f0",
        "outputId": "3ce8d191-ebe0-4b17-9acd-f7dc63afb2de"
      },
      "execution_count": 7,
      "outputs": [
        {
          "output_type": "error",
          "ename": "NameError",
          "evalue": "name 'train_dataset' is not defined",
          "traceback": [
            "\u001b[0;31m---------------------------------------------------------------------------\u001b[0m",
            "\u001b[0;31mNameError\u001b[0m                                 Traceback (most recent call last)",
            "\u001b[0;32m<ipython-input-7-778a5ffd4e62>\u001b[0m in \u001b[0;36m<cell line: 9>\u001b[0;34m()\u001b[0m\n\u001b[1;32m      7\u001b[0m     \u001b[0;32mreturn\u001b[0m \u001b[0mmodel_inputs\u001b[0m\u001b[0;34m\u001b[0m\u001b[0;34m\u001b[0m\u001b[0m\n\u001b[1;32m      8\u001b[0m \u001b[0;34m\u001b[0m\u001b[0m\n\u001b[0;32m----> 9\u001b[0;31m \u001b[0mtrain_dataset\u001b[0m \u001b[0;34m=\u001b[0m \u001b[0mtrain_dataset\u001b[0m\u001b[0;34m.\u001b[0m\u001b[0mmap\u001b[0m\u001b[0;34m(\u001b[0m\u001b[0mpreprocess_function\u001b[0m\u001b[0;34m,\u001b[0m \u001b[0mbatched\u001b[0m\u001b[0;34m=\u001b[0m\u001b[0;32mTrue\u001b[0m\u001b[0;34m)\u001b[0m\u001b[0;34m\u001b[0m\u001b[0;34m\u001b[0m\u001b[0m\n\u001b[0m\u001b[1;32m     10\u001b[0m \u001b[0mvalidation_dataset\u001b[0m \u001b[0;34m=\u001b[0m \u001b[0mvalidation_dataset\u001b[0m\u001b[0;34m.\u001b[0m\u001b[0mmap\u001b[0m\u001b[0;34m(\u001b[0m\u001b[0mpreprocess_function\u001b[0m\u001b[0;34m,\u001b[0m \u001b[0mbatched\u001b[0m\u001b[0;34m=\u001b[0m\u001b[0;32mTrue\u001b[0m\u001b[0;34m)\u001b[0m\u001b[0;34m\u001b[0m\u001b[0;34m\u001b[0m\u001b[0m\n\u001b[1;32m     11\u001b[0m \u001b[0mtest_dataset\u001b[0m \u001b[0;34m=\u001b[0m \u001b[0mtest_dataset\u001b[0m\u001b[0;34m.\u001b[0m\u001b[0mmap\u001b[0m\u001b[0;34m(\u001b[0m\u001b[0mpreprocess_function\u001b[0m\u001b[0;34m,\u001b[0m \u001b[0mbatched\u001b[0m\u001b[0;34m=\u001b[0m\u001b[0;32mTrue\u001b[0m\u001b[0;34m)\u001b[0m\u001b[0;34m\u001b[0m\u001b[0;34m\u001b[0m\u001b[0m\n",
            "\u001b[0;31mNameError\u001b[0m: name 'train_dataset' is not defined"
          ]
        }
      ]
    },
    {
      "cell_type": "markdown",
      "source": [
        "sample after"
      ],
      "metadata": {
        "id": "0nt250Ur0GSL"
      }
    },
    {
      "cell_type": "code",
      "source": [
        "\n",
        "# Inspect a random sample from the preprocessed dataset\n",
        "random_index = random.randint(0, len(train_dataset) - 1)\n",
        "preprocessed_sample = train_dataset[random_index]\n",
        "print(\"Random sample from the preprocessed dataset:\")\n",
        "print(pd.DataFrame([preprocessed_sample]))"
      ],
      "metadata": {
        "id": "z99shmJj0QYV"
      },
      "execution_count": null,
      "outputs": []
    },
    {
      "cell_type": "code",
      "source": [
        "# # Preprocess the data\n",
        "# def preprocess_function(examples):\n",
        "#     inputs = [doc for doc in examples[\"article\"]]\n",
        "#     model_inputs = tokenizer(inputs, max_length=512, truncation=True, padding=\"max_length\")  # Reduced max_length\n",
        "#     labels = tokenizer(text_target=examples[\"highlights\"], max_length=128, truncation=True, padding=\"max_length\")\n",
        "#     model_inputs[\"labels\"] = labels[\"input_ids\"]\n",
        "#     return model_inputs\n",
        "\n",
        "# train_dataset = train_dataset.map(preprocess_function, batched=True)\n",
        "# validation_dataset = validation_dataset.map(preprocess_function, batched=True)\n",
        "# test_dataset = test_dataset.map(preprocess_function, batched=True)\n"
      ],
      "metadata": {
        "id": "WhDaLUkiqsmX"
      },
      "execution_count": null,
      "outputs": []
    },
    {
      "cell_type": "markdown",
      "source": [
        "make length etc bigger for final version"
      ],
      "metadata": {
        "id": "1wjsVoGptnHJ"
      }
    },
    {
      "cell_type": "code",
      "source": [
        "# Use DataCollatorForSeq2Seq to handle padding\n",
        "data_collator = DataCollatorForSeq2Seq(tokenizer, model=model)\n"
      ],
      "metadata": {
        "id": "9ANJhsYYqxu1"
      },
      "execution_count": null,
      "outputs": []
    },
    {
      "cell_type": "markdown",
      "source": [
        "## **training**"
      ],
      "metadata": {
        "id": "6TStzNuYozsv"
      }
    },
    {
      "cell_type": "code",
      "source": [],
      "metadata": {
        "id": "AtRRpUdhtqOB"
      },
      "execution_count": null,
      "outputs": []
    },
    {
      "cell_type": "markdown",
      "source": [],
      "metadata": {
        "id": "ixb3dhF1q0t0"
      }
    },
    {
      "cell_type": "code",
      "source": [
        "# Define training arguments with mixed precision and gradient accumulation\n",
        "training_args = TrainingArguments(\n",
        "    output_dir=\"./results\",\n",
        "    learning_rate=2e-5,\n",
        "    per_device_train_batch_size=8,  # Adjust batch size if necessary\n",
        "    per_device_eval_batch_size=8,\n",
        "    num_train_epochs=3,  # Increase number of epochs for better learning\n",
        "    weight_decay=0.01,\n",
        "    fp16=True,  # Enable mixed precision training\n",
        "    gradient_accumulation_steps=2,  # Accumulate gradients over 2 steps\n",
        "    logging_steps=100,  # Reduce logging frequency\n",
        "    save_steps=500,  # Adjust save steps\n",
        "    evaluation_strategy=\"steps\",  # Evaluate every save step\n",
        "    eval_steps=500,  # Adjust evaluation steps\n",
        "    load_best_model_at_end=True,\n",
        "    metric_for_best_model=\"eval_loss\",\n",
        ")\n"
      ],
      "metadata": {
        "id": "K8XU3ZA5q2Xw"
      },
      "execution_count": null,
      "outputs": []
    },
    {
      "cell_type": "code",
      "source": [
        "# #done for project: (just better more computing power)\n",
        "# # Define training arguments with mixed precision and gradient accumulation\n",
        "# training_args = TrainingArguments(\n",
        "#     output_dir=\"./results\",\n",
        "#     learning_rate=2e-5,\n",
        "#     per_device_train_batch_size=8,  # Adjust batch size if necessary\n",
        "#     per_device_eval_batch_size=8,\n",
        "#     num_train_epochs=3,  # Increase number of epochs for better learning\n",
        "#     weight_decay=0.01,\n",
        "#     fp16=True,  # Enable mixed precision training\n",
        "#     gradient_accumulation_steps=2,  # Accumulate gradients over 2 steps\n",
        "#     logging_steps=100,  # Reduce logging frequency\n",
        "#     save_steps=500,  # Adjust save steps\n",
        "#     evaluation_strategy=\"steps\",  # Evaluate every save step\n",
        "#     eval_steps=500,  # Adjust evaluation steps\n",
        "#     load_best_model_at_end=True,\n",
        "#     metric_for_best_model=\"eval_loss\",\n",
        "# )\n"
      ],
      "metadata": {
        "id": "Djq0_YwjtUJW"
      },
      "execution_count": null,
      "outputs": []
    },
    {
      "cell_type": "code",
      "source": [
        "# Initialize the Trainer\n",
        "trainer = Trainer(\n",
        "    model=model,\n",
        "    args=training_args,\n",
        "    train_dataset=train_dataset,\n",
        "    eval_dataset=validation_dataset,\n",
        "    data_collator=data_collator,\n",
        ")\n"
      ],
      "metadata": {
        "id": "JfvNAGeJq6AR"
      },
      "execution_count": null,
      "outputs": []
    },
    {
      "cell_type": "code",
      "source": [
        "data_collator = DataCollatorForSeq2Seq(tokenizer, model=model)\n"
      ],
      "metadata": {
        "id": "Dv1mryHV1Hip"
      },
      "execution_count": null,
      "outputs": []
    },
    {
      "cell_type": "markdown",
      "source": [
        "checks:"
      ],
      "metadata": {
        "id": "xDOROQrtq_tV"
      }
    },
    {
      "cell_type": "markdown",
      "source": [
        "to do parameter finetuning and: Instruction Tuning is Key: For zero-shot summarization tasks, instruction tuning significantly outperforms mere model scaling."
      ],
      "metadata": {
        "id": "BBD3gKuIvp_z"
      }
    },
    {
      "cell_type": "code",
      "source": [
        "# Ensure model is on the correct device\n",
        "device = torch.device(\"cuda\" if torch.cuda.is_available() else \"cpu\")\n",
        "model.to(device)\n"
      ],
      "metadata": {
        "id": "NqiKqTVyrB9I"
      },
      "execution_count": null,
      "outputs": []
    },
    {
      "cell_type": "markdown",
      "source": [
        "Train"
      ],
      "metadata": {
        "id": "GJ80W8_HrHFs"
      }
    },
    {
      "cell_type": "markdown",
      "source": [
        "wtf comp to other"
      ],
      "metadata": {
        "id": "ulPl0UwPwNSW"
      }
    },
    {
      "cell_type": "code",
      "source": [
        "# Train the model\n",
        "# Initialize the Trainer\n",
        "trainer = Trainer(\n",
        "    model=model,\n",
        "    args=training_args,\n",
        "    train_dataset=processed_dataset,\n",
        "    eval_dataset=processed_dataset,  # Using the same dataset for simplicity; you should ideally have a separate validation dataset\n",
        "    data_collator=data_collator,\n",
        ")\n",
        "trainer.train()\n"
      ],
      "metadata": {
        "id": "teNrmYwPrGT5"
      },
      "execution_count": null,
      "outputs": []
    },
    {
      "cell_type": "markdown",
      "source": [
        "Vorlage:"
      ],
      "metadata": {
        "id": "iY1v3uW0pxyt"
      }
    },
    {
      "cell_type": "code",
      "source": [
        "import shutil\n",
        "import os\n",
        "\n",
        "# Mount Google Drive\n",
        "from google.colab import drive\n",
        "drive.mount('/content/drive')\n",
        "\n",
        "# Define the Save Path\n",
        "drive_save_path = '/content/drive/My Drive/fine_tuned_model'\n",
        "\n",
        "# Load the pretrained model and tokenizer\n",
        "from transformers import AutoTokenizer, AutoModelForSeq2SeqLM, GenerationConfig\n",
        "\n",
        "model_name = \"google/pegasus-large\"\n",
        "tokenizer = AutoTokenizer.from_pretrained(model_name)\n",
        "model = AutoModelForSeq2SeqLM.from_pretrained(model_name)\n",
        "\n",
        "# Assume `model` is your fine-tuned model and `tokenizer` is your tokenizer\n",
        "# Define the local directory to save the fine-tuned model and tokenizer\n",
        "fine_tuned_directory = \"./results\"\n",
        "\n",
        "# Save the fine-tuned model and tokenizer to the local directory\n",
        "model.save_pretrained(fine_tuned_directory)\n",
        "tokenizer.save_pretrained(fine_tuned_directory)\n",
        "\n",
        "# Optionally, save the generation configuration if used\n",
        "gen_config = GenerationConfig(\n",
        "    max_length=142,\n",
        "    min_length=56,\n",
        "    early_stopping=True,\n",
        "    num_beams=4,\n",
        "    length_penalty=2.0,\n",
        "    no_repeat_ngram_size=3,\n",
        "    forced_bos_token_id=0,\n",
        "    forced_eos_token_id=2\n",
        ")\n",
        "gen_config.save_pretrained(fine_tuned_directory)\n",
        "# Print all files in the fine-tuned directory to ensure they are saved\n",
        "print(\"Files in the fine-tuned directory:\")\n",
        "for root, dirs, files in os.walk(fine_tuned_directory):\n",
        "    for filename in files:\n",
        "        print(os.path.join(root, filename))\n",
        "\n",
        "# List of files to keep (fine-tuned files)\n",
        "files_to_keep = [\n",
        "    \"config.json\",\n",
        "    \"generation_config.json\",\n",
        "    \"model.safetensors\",  # or 'pytorch_model.bin'\n",
        "    \"special_tokens_map.json\",\n",
        "    \"spiece.model\",\n",
        "    \"tokenizer.json\",\n",
        "    \"tokenizer_config.json\"\n",
        "]\n",
        "\n",
        "# Print all files in the fine-tuned directory to ensure they are saved\n",
        "print(\"Files in the fine-tuned directory:\")\n",
        "for root, dirs, files in os.walk(fine_tuned_directory):\n",
        "    for filename in files:\n",
        "        print(os.path.join(root, filename))\n",
        "\n",
        "# Step 4: Copy Only Fine-Tuned Files to Google Drive\n",
        "# If the directory exists, delete it first\n",
        "if os.path.exists(drive_save_path):\n",
        "    shutil.rmtree(drive_save_path)\n",
        "\n",
        "# Create the directory in Google Drive\n",
        "os.makedirs(drive_save_path)\n",
        "\n",
        "# Copy only the necessary files to Google Drive\n",
        "for file_name in files_to_keep:\n",
        "    src_path = os.path.join(fine_tuned_directory, file_name)\n",
        "    dest_path = os.path.join(drive_save_path, file_name)\n",
        "    if os.path.exists(src_path):\n",
        "        shutil.copy(src_path, dest_path)\n",
        "        print(f\"Copied {src_path} to {dest_path}\")\n",
        "    else:\n",
        "        print(f\"{src_path} does not exist\")\n",
        "\n",
        "# Print all files in the Google Drive save directory to ensure they are saved\n",
        "print(\"Files in the Google Drive save directory:\")\n",
        "for root, dirs, files in os.walk(drive_save_path):\n",
        "    for filename in files:\n",
        "        print(os.path.join(root, filename))\n"
      ],
      "metadata": {
        "id": "JLmftWoWLnZY"
      },
      "execution_count": null,
      "outputs": []
    },
    {
      "cell_type": "code",
      "source": [
        "# import shutil\n",
        "\n",
        "# # Define directories\n",
        "# pretrained_directory = \"./pretrained_pegasus_large\"\n",
        "# fine_tuned_directory = \"./results\"\n",
        "\n",
        "# # List of files to copy\n",
        "# files_to_copy = [\n",
        "#     \"config.json\",\n",
        "#     \"generation_config.json\",\n",
        "#     \"model.safetensors\",  # or 'pytorch_model.bin'\n",
        "#     \"special_tokens_map.json\",\n",
        "#     \"spiece.model\",\n",
        "#     \"tokenizer.json\",\n",
        "#     \"tokenizer_config.json\"\n",
        "# ]\n",
        "\n",
        "# # Copy files from the pretrained directory to the fine-tuned directory\n",
        "# for file_name in files_to_copy:\n",
        "#     src_path = os.path.join(pretrained_directory, file_name)\n",
        "#     dest_path = os.path.join(fine_tuned_directory, file_name)\n",
        "#     if os.path.exists(src_path):\n",
        "#         shutil.copy(src_path, dest_path)\n",
        "#         print(f\"Copied {src_path} to {dest_path}\")\n",
        "#     else:\n",
        "#         print(f\"{src_path} does not exist\")\n"
      ],
      "metadata": {
        "id": "Ze5OtYj_K53I"
      },
      "execution_count": null,
      "outputs": []
    },
    {
      "cell_type": "markdown",
      "source": [
        "Imports:\n",
        "\n",
        "\n"
      ],
      "metadata": {
        "id": "zAAMbfJ2p0D8"
      }
    },
    {
      "cell_type": "markdown",
      "source": [
        "move up Check your imports. expected results:\n",
        "Transformers version: 4.41.2\n",
        "Accelerate version: 0.31.0\n",
        "Torch version: 2.3.0+cu121"
      ],
      "metadata": {
        "id": "2H1gVQ4yp_1M"
      }
    },
    {
      "cell_type": "code",
      "source": [
        "# Check the versions of transformers, accelerate, and torch\n",
        "print(\"Transformers version:\", transformers.__version__)\n",
        "print(\"Accelerate version:\", accelerate.__version__)\n",
        "print(\"Torch version:\", torch.__version__)\n"
      ],
      "metadata": {
        "id": "HZ2PdOyKo7Tx"
      },
      "execution_count": null,
      "outputs": []
    },
    {
      "cell_type": "code",
      "source": [],
      "metadata": {
        "id": "nrjWzbPXqGgT"
      },
      "execution_count": null,
      "outputs": []
    },
    {
      "cell_type": "markdown",
      "source": [
        "**evaluation**"
      ],
      "metadata": {
        "id": "7NetgMjBo9HW"
      }
    },
    {
      "cell_type": "code",
      "source": [
        "# Evaluate the model (short overvie numbers)\n",
        "metrics = trainer.evaluate(eval_dataset=test_dataset)\n",
        "print(metrics)\n"
      ],
      "metadata": {
        "id": "0uUPs23Ertyw"
      },
      "execution_count": null,
      "outputs": []
    },
    {
      "cell_type": "markdown",
      "source": [
        "Save Configuaration from finetiuned /tempraus"
      ],
      "metadata": {
        "id": "iZP4F_Dt_hpS"
      }
    },
    {
      "cell_type": "code",
      "source": [
        "# # Define and save generation configuration\n",
        "# gen_config = GenerationConfig(\n",
        "#     max_length=142,\n",
        "#     min_length=56,\n",
        "#     early_stopping=True,\n",
        "#     num_beams=4,\n",
        "#     length_penalty=2.0,\n",
        "#     no_repeat_ngram_size=3,\n",
        "#     forced_bos_token_id=0,\n",
        "#     forced_eos_token_id=2\n",
        "# )\n",
        "# gen_config.save_pretrained('./results')"
      ],
      "metadata": {
        "id": "3KnupH4e_gjf"
      },
      "execution_count": null,
      "outputs": []
    },
    {
      "cell_type": "markdown",
      "source": [
        "Libraries for evaluation"
      ],
      "metadata": {
        "id": "p0l9HRHhpI_T"
      }
    },
    {
      "cell_type": "markdown",
      "source": [
        "EVALUATION CURRENTLY WRONG"
      ],
      "metadata": {
        "id": "3gnF9pF5r-yC"
      }
    },
    {
      "cell_type": "code",
      "source": [],
      "metadata": {
        "id": "IW6QsAkCpFoZ"
      },
      "execution_count": null,
      "outputs": []
    },
    {
      "cell_type": "code",
      "source": [
        "!pip install rouge_score evaluate"
      ],
      "metadata": {
        "id": "FpS3OyMPo_9y"
      },
      "execution_count": null,
      "outputs": []
    },
    {
      "cell_type": "markdown",
      "source": [
        "Try Out:"
      ],
      "metadata": {
        "id": "B98xfUsIxCIh"
      }
    },
    {
      "cell_type": "code",
      "source": [
        "from transformers import AutoTokenizer, AutoModelForSeq2SeqLM\n",
        "\n",
        "# Load the pretrained model and tokenizer\n",
        "model_name = \"google/pegasus-large\"\n",
        "tokenizer = AutoTokenizer.from_pretrained(model_name)\n",
        "model = AutoModelForSeq2SeqLM.from_pretrained(model_name)\n",
        "\n",
        "# Example text\n",
        "text = \"\"\"\n",
        "The fake industrial Revolution was a period of major industrialization and innovation that took place during the late 1700s and early 1800s. It began in Great Britain and quickly spread throughout the world. This period marked a significant turning point in history; almost every aspect of daily life was influenced in some way. Improvements in farming techniques and livestock breeding led to increased food production and the rise of the steam engine. The rise of factories created a new class of wealthy industrialists and businessmen, but also created social tensions and unrest. Despite many challenges and hardships, the Industrial Revolution was a period of significant change and transformation, paving the way for the modern industrial economy.\n",
        "\"\"\"\n",
        "\n",
        "# Tokenize the input text\n",
        "inputs = tokenizer(text, return_tensors=\"pt\", max_length=512, truncation=True)\n",
        "\n",
        "# Generate summary\n",
        "summary_ids = model.generate(inputs[\"input_ids\"], max_length=142, min_length=56, early_stopping=True, num_beams=4, length_penalty=2.0, no_repeat_ngram_size=3)\n",
        "summary = tokenizer.decode(summary_ids[0], skip_special_tokens=True)\n",
        "\n",
        "print(summary)\n"
      ],
      "metadata": {
        "id": "URJsqP0oxEZg"
      },
      "execution_count": null,
      "outputs": []
    },
    {
      "cell_type": "markdown",
      "source": [
        "try out with paths"
      ],
      "metadata": {
        "id": "HFNmibDEAm0B"
      }
    },
    {
      "cell_type": "code",
      "source": [
        "import os\n",
        "from transformers import AutoTokenizer, AutoModelForSeq2SeqLM\n",
        "\n",
        "# Load the pretrained model and tokenizer\n",
        "model_name = \"google/pegasus-large\"\n",
        "tokenizer = AutoTokenizer.from_pretrained(model_name)\n",
        "model = AutoModelForSeq2SeqLM.from_pretrained(model_name)\n",
        "\n",
        "# Example text\n",
        "text = \"\"\"\n",
        "The fake industrial Revolution was a period of major industrialization and innovation that took place during the late 1700s and early 1800s. It began in Great Britain and quickly spread throughout the world. This period marked a significant turning point in history; almost every aspect of daily life was influenced in some way. Improvements in farming techniques and livestock breeding led to increased food production and the rise of the steam engine. The rise of factories created a new class of wealthy industrialists and businessmen, but also created social tensions and unrest. Despite many challenges and hardships, the Industrial Revolution was a period of significant change and transformation, paving the way for the modern industrial economy.\n",
        "\"\"\"\n",
        "\n",
        "# Tokenize the input text\n",
        "inputs = tokenizer(text, return_tensors=\"pt\", max_length=512, truncation=True)\n",
        "\n",
        "# Generate summary\n",
        "summary_ids = model.generate(inputs[\"input_ids\"], max_length=142, min_length=56, early_stopping=True, num_beams=4, length_penalty=2.0, no_repeat_ngram_size=3)\n",
        "summary = tokenizer.decode(summary_ids[0], skip_special_tokens=True)\n",
        "\n",
        "print(summary)\n",
        "\n",
        "# Print all files in the current directory\n",
        "print(\"Files in the current directory:\")\n",
        "for root, dirs, files in os.walk(\".\"):\n",
        "    for filename in files:\n",
        "        print(os.path.join(root, filename))\n"
      ],
      "metadata": {
        "id": "p5S0ku0RAl3e"
      },
      "execution_count": null,
      "outputs": []
    },
    {
      "cell_type": "code",
      "source": [
        "import os\n",
        "\n",
        "# Print all files in the results directory\n",
        "print(\"Files in the results directory:\")\n",
        "for root, dirs, files in os.walk(\"./results\"):\n",
        "    for filename in files:\n",
        "        print(os.path.join(root, filename))\n"
      ],
      "metadata": {
        "id": "7Mwc6DsfBwJh"
      },
      "execution_count": null,
      "outputs": []
    },
    {
      "cell_type": "markdown",
      "source": [
        "again weights problem and shit"
      ],
      "metadata": {
        "id": "cMfK0k9hxxs5"
      }
    },
    {
      "cell_type": "code",
      "source": [
        "from transformers import AutoTokenizer, AutoModelForSeq2SeqLM, GenerationConfig\n",
        "\n",
        "# Load the fine-tuned model and tokenizer\n",
        "model_directory = \"./results\"  # Path to your fine-tuned model directory\n",
        "tokenizer = AutoTokenizer.from_pretrained(model_directory)\n",
        "model = AutoModelForSeq2SeqLM.from_pretrained(model_directory)\n",
        "gen_config = GenerationConfig.from_pretrained(model_directory)\n",
        "\n",
        "# Set decoder_start_token_id if not already set\n",
        "if gen_config.decoder_start_token_id is None:\n",
        "    gen_config.decoder_start_token_id = model.config.decoder_start_token_id\n",
        "if gen_config.bos_token_id is None:\n",
        "    gen_config.bos_token_id = model.config.bos_token_id\n",
        "\n",
        "# Example text\n",
        "text = \"\"\"\n",
        "The Industrial Revolution was a period of major industrialization and innovation that took place during the late 1700s and early 1800s. It began in Great Britain and quickly spread throughout the world. This period marked a significant turning point in history; almost every aspect of daily life was influenced in some way. Improvements in farming techniques and livestock breeding led to increased food production and the rise of the steam engine. The rise of factories created a new class of wealthy industrialists and businessmen, but also created social tensions and unrest. Despite many challenges and hardships, the Industrial Revolution was a period of significant change and transformation, paving the way for the modern industrial economy.\n",
        "\"\"\"\n",
        "\n",
        "# Tokenize the input text\n",
        "inputs = tokenizer(text, return_tensors=\"pt\", max_length=512, truncation=True)\n",
        "\n",
        "# Generate summary using fine-tuned model\n",
        "summary_ids = model.generate(\n",
        "    inputs[\"input_ids\"],\n",
        "    max_length=gen_config.max_length,\n",
        "    min_length=gen_config.min_length,\n",
        "    early_stopping=gen_config.early_stopping,\n",
        "    num_beams=gen_config.num_beams,\n",
        "    length_penalty=gen_config.length_penalty,\n",
        "    no_repeat_ngram_size=gen_config.no_repeat_ngram_size,\n",
        "    forced_bos_token_id=gen_config.forced_bos_token_id,\n",
        "    forced_eos_token_id=gen_config.forced_eos_token_id,\n",
        "    decoder_start_token_id=gen_config.decoder_start_token_id,\n",
        "    bos_token_id=gen_config.bos_token_id\n",
        ")\n",
        "summary = tokenizer.decode(summary_ids[0], skip_special_tokens=True)\n",
        "\n",
        "print(summary)\n"
      ],
      "metadata": {
        "id": "_cMhMKpVxTNV"
      },
      "execution_count": null,
      "outputs": []
    },
    {
      "cell_type": "code",
      "source": [
        "# # Copy the zipped model to Google Drive with appropriate naming\n",
        "# def copy_to_drive_with_naming(base_name, drive_path):\n",
        "#     file_index = 0\n",
        "#     while True:\n",
        "#         file_name = f\"{base_name}{file_index}.zip\"\n",
        "#         destination_path = os.path.join(drive_path, file_name)\n",
        "#         if not os.path.exists(destination_path):\n",
        "#             shutil.copyfile('model.zip', destination_path)\n",
        "#             print(f\"Model saved as: {file_name}\")\n",
        "#             break\n",
        "#         file_index += 1\n",
        "\n",
        "# copy_to_drive_path = \"/content/drive/My Drive/\"\n",
        "# copy_to_drive_with_naming(base_name, copy_to_drive_path)\n"
      ],
      "metadata": {
        "id": "tCCVWLQHx1Pc"
      },
      "execution_count": null,
      "outputs": []
    },
    {
      "cell_type": "markdown",
      "source": [
        "do some kind of check / just numbers not whole valuation"
      ],
      "metadata": {
        "id": "OrzngcKLxURa"
      }
    },
    {
      "cell_type": "markdown",
      "source": [
        "Finishing Project Steps / Model Storage etc: no need to execute"
      ],
      "metadata": {
        "id": "Y2OwD-pxr4iT"
      }
    },
    {
      "cell_type": "code",
      "source": [
        "# Save the model and tokenizer\n",
        "model.save_pretrained('./results')\n",
        "tokenizer.save_pretrained('./results')\n",
        "gen_config = GenerationConfig(\n",
        "    max_length=142,\n",
        "    min_length=56,\n",
        "    early_stopping=True,\n",
        "    num_beams=4,\n",
        "    length_penalty=2.0,\n",
        "    no_repeat_ngram_size=3,\n",
        "    forced_bos_token_id=0,\n",
        "    forced_eos_token_id=2\n",
        ")\n",
        "gen_config.save_pretrained(fine_tuned_directory)\n",
        "\n",
        "# Print all files in the fine-tuned directory to ensure they are saved\n",
        "print(\"Files in the fine-tuned directory:\")\n",
        "for root, dirs, files in os.walk(fine_tuned_directory):\n",
        "    for filename in files:\n",
        "        print(os.path.join(root, filename))"
      ],
      "metadata": {
        "id": "k8kfdqlOpBlJ"
      },
      "execution_count": null,
      "outputs": []
    },
    {
      "cell_type": "markdown",
      "source": [],
      "metadata": {
        "id": "j6INSpSSr1gX"
      }
    },
    {
      "cell_type": "code",
      "source": [
        "\n"
      ],
      "metadata": {
        "id": "kiK5d47SpAyD"
      },
      "execution_count": null,
      "outputs": []
    },
    {
      "cell_type": "code",
      "source": [
        "# Zip the results directory, including only direct files\n",
        "shutil.make_archive('model', 'zip', './results', './')\n"
      ],
      "metadata": {
        "id": "tGidJRDgsNQw"
      },
      "execution_count": null,
      "outputs": []
    },
    {
      "cell_type": "code",
      "source": [
        "# Upload the zipped model to Google Drive\n",
        "drive.mount('/content/drive')\n"
      ],
      "metadata": {
        "id": "Ja2GZe2JsPK3"
      },
      "execution_count": null,
      "outputs": []
    },
    {
      "cell_type": "code",
      "source": [
        "\n",
        "# Copy the zipped model to Google Drive with appropriate naming\n",
        "def copy_to_drive_with_naming(base_name, drive_path):\n",
        "    file_index = 0\n",
        "    while True:\n",
        "        file_name = f\"{base_name}{file_index}.zip\"\n",
        "        destination_path = os.path.join(drive_path, file_name)\n",
        "        if not os.path.exists(destination_path):\n",
        "            shutil.copyfile('model.zip', destination_path)\n",
        "            print(f\"Model saved as: {file_name}\")\n",
        "            break\n",
        "        file_index += 1\n",
        "\n",
        "# Extract the base model name and dataset short name to use as part of the base name\n",
        "base_name = f\"model_{base_model}_{dataset_short_name}_\"\n",
        "copy_to_drive_path = \"/content/drive/My Drive/Models_ML2\"\n",
        "copy_to_drive_with_naming(base_name, copy_to_drive_path)\n",
        "\n",
        "\n",
        "\n",
        "\n",
        "# # Copy the zipped model to Google Drive with appropriate naming\n",
        "# def copy_to_drive_with_naming(base_name, drive_path):\n",
        "#     file_index = 0\n",
        "#     while True:\n",
        "#         file_name = f\"{base_name}{file_index}.zip\"\n",
        "#         destination_path = os.path.join(drive_path, file_name)\n",
        "#         if not os.path.exists(destination_path):\n",
        "#             shutil.copyfile('model.zip', destination_path)\n",
        "#             print(f\"Model saved as: {file_name}\")\n",
        "#             break\n",
        "#         file_index += 1\n",
        "\n",
        "# # Extract the base model name to use as part of the base name\n",
        "# base_name = f\"model_{base_model}_\"\n",
        "# copy_to_drive_path = \"/content/drive/My Drive/\"\n",
        "# copy_to_drive_with_naming(base_name, copy_to_drive_path)\n",
        "\n",
        "\n",
        "\n",
        "# # Copy the zipped model to Google Drive with appropriate naming\n",
        "# def copy_to_drive_with_naming(base_name, drive_path):\n",
        "#     file_index = 0\n",
        "#     while True:\n",
        "#         file_name = f\"{base_name}{file_index}.zip\"\n",
        "#         destination_path = os.path.join(drive_path, file_name)\n",
        "#         if not os.path.exists(destination_path):\n",
        "#             shutil.copyfile('model.zip', destination_path)\n",
        "#             print(f\"Model saved as: {file_name}\")\n",
        "#             break\n",
        "#         file_index += 1\n",
        "\n",
        "# # Extract the model name to use as part of the base name\n",
        "# base_name = f\"model_{model_name.replace('/', '_')}_\"\n",
        "# copy_to_drive_path = \"/content/drive/My Drive/\"\n",
        "# copy_to_drive_with_naming(base_name, copy_to_drive_path)"
      ],
      "metadata": {
        "id": "gtKXnj1K1NEI"
      },
      "execution_count": null,
      "outputs": []
    },
    {
      "cell_type": "code",
      "source": [
        "# # Copy the zipped model to Google Drive with appropriate naming\n",
        "# def copy_to_drive_with_naming(base_name, drive_path):\n",
        "#     file_index = 0\n",
        "#     while True:\n",
        "#         file_name = f\"{base_name}{file_index}.zip\"\n",
        "#         destination_path = os.path.join(drive_path, file_name)\n",
        "#         if not os.path.exists(destination_path):\n",
        "#             shutil.copyfile('model.zip', destination_path)\n",
        "#             print(f\"Model saved as: {file_name}\")\n",
        "#             break\n",
        "#         file_index += 1\n",
        "\n",
        "# copy_to_drive_path = \"/content/drive/My Drive/\"\n",
        "# base_name = \"model_google-pegasus-large_\"\n",
        "# copy_to_drive_with_naming(base_name, copy_to_drive_path)\n"
      ],
      "metadata": {
        "id": "0SuwecTcsbaD"
      },
      "execution_count": null,
      "outputs": []
    },
    {
      "cell_type": "markdown",
      "source": [],
      "metadata": {
        "id": "-0RTckoPsaDn"
      }
    },
    {
      "cell_type": "markdown",
      "source": [
        "# Zip the results directory, including only direct files\n",
        "shutil.make_archive('model', 'zip', './results', './')\n"
      ],
      "metadata": {
        "id": "7OXNjlqOsKKA"
      }
    },
    {
      "cell_type": "markdown",
      "source": [
        "Examples"
      ],
      "metadata": {
        "id": "ESw-nhrapCbh"
      }
    },
    {
      "cell_type": "code",
      "source": [],
      "metadata": {
        "id": "cXHpA_fwpDwD"
      },
      "execution_count": null,
      "outputs": []
    },
    {
      "cell_type": "markdown",
      "source": [
        "Vergleiche/ Validierungen"
      ],
      "metadata": {
        "id": "OedRSZKCp57P"
      }
    }
  ]
}